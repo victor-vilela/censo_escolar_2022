{
 "cells": [
  {
   "cell_type": "markdown",
   "id": "c67fd87e",
   "metadata": {},
   "source": [
    "# 0.0 IMPORTS"
   ]
  },
  {
   "cell_type": "code",
   "execution_count": 1,
   "id": "a57500bf",
   "metadata": {
    "ExecuteTime": {
     "end_time": "2023-07-09T23:14:21.239883Z",
     "start_time": "2023-07-09T23:14:12.683463Z"
    }
   },
   "outputs": [],
   "source": [
    "import inflection\n",
    "import math\n",
    "import datetime\n",
    "import warnings\n",
    "import seaborn                            as sns\n",
    "import pandas                             as pd\n",
    "import numpy                              as np\n",
    "import matplotlib.pyplot                  as plt\n",
    "\n",
    "from scipy                   import stats as ss\n",
    "from IPython.display         import Image\n",
    "\n",
    "from sklearn.preprocessing   import RobustScaler, MinMaxScaler, LabelEncoder\n",
    "from sklearn.metrics         import mean_absolute_error, mean_absolute_percentage_error, mean_squared_error\n",
    "from sklearn.model_selection import train_test_split"
   ]
  },
  {
   "cell_type": "markdown",
   "id": "a7848568",
   "metadata": {},
   "source": [
    "## 0.1 Helper Functions"
   ]
  },
  {
   "cell_type": "code",
   "execution_count": 2,
   "id": "a69db5ae",
   "metadata": {
    "ExecuteTime": {
     "end_time": "2023-07-09T23:14:21.247820Z",
     "start_time": "2023-07-09T23:14:21.244123Z"
    }
   },
   "outputs": [],
   "source": [
    "warnings.filterwarnings('ignore')"
   ]
  },
  {
   "cell_type": "code",
   "execution_count": 3,
   "id": "2a4384cd",
   "metadata": {
    "ExecuteTime": {
     "end_time": "2023-07-09T23:14:21.398281Z",
     "start_time": "2023-07-09T23:14:21.250501Z"
    }
   },
   "outputs": [],
   "source": [
    "def cramer_v( x, y ):\n",
    "    cm = pd.crosstab( x, y ).values\n",
    "    n = cm.sum()\n",
    "    r, k = cm.shape\n",
    "    chi2 = ss.chi2_contingency( cm )[0]\n",
    "    chi2corr = max( 0, chi2 - (k-1)*(r-1)/(n-1) )\n",
    "    kcorr = k - (k-1)**2/(n-1)\n",
    "    rcorr = r - (r-1)**2/(n-1)\n",
    "    \n",
    "    return np.sqrt( (chi2corr/n) / ( min( kcorr-1, rcorr-1 ) ) )\n",
    "\n",
    "# Model Avaliation \n",
    "def ml_error( model_name, y, yhat ):\n",
    "    mae = mean_absolute_error( y, yhat )\n",
    "    mape = mean_absolute_percentage_error( y, yhat )\n",
    "    rmse = np.sqrt( mean_squared_error( y, yhat ) ) \n",
    "    \n",
    "    return pd.DataFrame( {'Model Name': model_name,\n",
    "                          'MAE': mae,\n",
    "                          'MAPE': mape,\n",
    "                          'RMSE': rmse}, index=[0] )\n",
    "\n",
    "# Cross Validation\n",
    "def cross_validation( x_training, kfold, model_name, model, verbose=False):\n",
    "\n",
    "    mae_list= []\n",
    "    mape_list= []\n",
    "    rmse_list= []\n",
    "    \n",
    "    for k in reversed( range( 1, kfold+1 ) ):\n",
    "        if verbose:\n",
    "            print('\\nKFold Number: ', k)\n",
    "        # start and end date for validation\n",
    "        validation_start_date = x_training['date'].max() - datetime.timedelta( days=k*6*7 )\n",
    "        validation_end_date = x_training['date'].max() - datetime.timedelta( days=k*6*7 )\n",
    "        \n",
    "        # filtering dataset\n",
    "        training = x_training[x_training['date'] < validation_start_date]\n",
    "        validation = x_training[(x_training['date'] >= validation_start_date) & (x_training['date'] <= validation_end_date)]\n",
    "        \n",
    "        # training and validation dataset\n",
    "        xtraining = training.drop(['date', 'sales'], axis=1)\n",
    "        ytraining = training['sales']\n",
    "        \n",
    "        xvalidation = validation.drop(['date', 'sales'], axis=1)\n",
    "        yvalidation = validation['sales']\n",
    "        \n",
    "        # model\n",
    "        m = model.fit(xtraining, ytraining)\n",
    "        \n",
    "        # prediction\n",
    "        yhat = m.predict(xvalidation)\n",
    "        \n",
    "        # performance\n",
    "        m_result = ml_error(model_name, np.expm1(yvalidation), np.expm1(yhat))\n",
    "        \n",
    "        # store performance of each kfold iteration\n",
    "        mae_list.append( m_result['MAE'] )\n",
    "        mape_list.append( m_result['MAPE'] )\n",
    "        rmse_list.append( m_result['RMSE'] )\n",
    "        \n",
    "    return pd.DataFrame( {\n",
    "            'Model Name': model_name,\n",
    "            'MAE CV': np.round( np.mean(mae_list), 2 ).astype(str) + \" +/- \" + np.round( np.std(mae_list), 2 ).astype(str),\n",
    "            'MAPE CV': np.round( np.mean(mape_list), 2 ).astype(str) + \" +/- \" + np.round( np.std(mape_list), 2 ).astype(str),\n",
    "            'RMSE CV': np.round( np.mean(rmse_list), 2 ).astype(str) + \" +/- \" + np.round( np.std(rmse_list), 2 ).astype(str)\n",
    "        }, index=[0] )\n",
    "\n",
    "\n",
    "def mean_percentage_error( y, yhat ):\n",
    "    return np.mean( (y-yhat) / y )"
   ]
  },
  {
   "cell_type": "markdown",
   "id": "16de90d0",
   "metadata": {},
   "source": [
    "## 0.2 Loading Data"
   ]
  },
  {
   "cell_type": "code",
   "execution_count": 4,
   "id": "cdaa3384",
   "metadata": {
    "ExecuteTime": {
     "end_time": "2023-07-09T23:14:24.315533Z",
     "start_time": "2023-07-09T23:14:21.401530Z"
    }
   },
   "outputs": [],
   "source": [
    "dir_data = \"../data/raw/microdados_censo_escolar_educacao_basica_2022/dados/\"\n",
    "file_data = \"microdados_ed_basica_2022.csv\"\n",
    "\n",
    "# CSV\n",
    "df_raw = pd.read_csv(dir_data + file_data, sep=';', encoding = \"ISO-8859-1\")"
   ]
  },
  {
   "cell_type": "markdown",
   "id": "89be8589",
   "metadata": {},
   "source": [
    "## 0.3 Loading Data Dictionary"
   ]
  },
  {
   "cell_type": "code",
   "execution_count": 5,
   "id": "0dd4bd1e",
   "metadata": {},
   "outputs": [],
   "source": [
    "dir_dict = \"../data/raw/microdados_censo_escolar_educacao_basica_2022/Anexos/ANEXO I - Dicionаrio de Dados/\"\n",
    "file_dict = \"dicionario_dados_educacao_basica.xlsx\"\n",
    "\n",
    "# EXCEL\n",
    "df_dict = pd.read_excel(dir_dict + file_dict, skiprows=6, usecols=\"B:F\")"
   ]
  },
  {
   "cell_type": "code",
   "execution_count": 49,
   "id": "5c396615",
   "metadata": {},
   "outputs": [],
   "source": [
    "# Filtering columns relevants by dictionary\n",
    "df_private = (\n",
    "    df_dict\n",
    "    .loc[lambda x: (x['Nome da Variável'].notnull()) & (x['Categoria'].notnull())]\n",
    "    .loc[lambda x: x['Categoria'].str.contains(\"Não aplicável para escolas privadas\")]\n",
    "    .reset_index(drop=True)\n",
    ")"
   ]
  },
  {
   "cell_type": "code",
   "execution_count": 7,
   "id": "9e2f18b6",
   "metadata": {},
   "outputs": [],
   "source": [
    "cols_remove = [i.lower() for i in list(df_private['Nome da Variável'])]"
   ]
  },
  {
   "cell_type": "markdown",
   "id": "cdc85a81",
   "metadata": {},
   "source": [
    "# 1.0 ETL DATA"
   ]
  },
  {
   "cell_type": "code",
   "execution_count": 19,
   "id": "7e90a8f5",
   "metadata": {
    "ExecuteTime": {
     "end_time": "2023-07-09T23:14:24.693829Z",
     "start_time": "2023-07-09T23:14:24.317909Z"
    }
   },
   "outputs": [],
   "source": [
    "df1 = df_raw.copy()"
   ]
  },
  {
   "cell_type": "markdown",
   "id": "23ba4cf2",
   "metadata": {},
   "source": [
    "## 1.1 Filtering Data Relevants"
   ]
  },
  {
   "cell_type": "code",
   "execution_count": 20,
   "id": "fd453a48",
   "metadata": {},
   "outputs": [],
   "source": [
    "df1 = (\n",
    "    df1\n",
    "    .loc[lambda x: (x['TP_DEPENDENCIA'] == 4) & (x['TP_SITUACAO_FUNCIONAMENTO'] == 1)]\n",
    "    .reset_index(drop=True)\n",
    ")"
   ]
  },
  {
   "cell_type": "markdown",
   "id": "00c325c9",
   "metadata": {},
   "source": [
    "## 1.2 Rename Columns"
   ]
  },
  {
   "cell_type": "code",
   "execution_count": 21,
   "id": "0ffe9f9f",
   "metadata": {
    "ExecuteTime": {
     "end_time": "2023-07-09T23:14:24.699583Z",
     "start_time": "2023-07-09T23:14:24.695425Z"
    }
   },
   "outputs": [],
   "source": [
    "cols_old = list(df1.columns)\n",
    "\n",
    "snakecase = lambda x: inflection.underscore(x)\n",
    "\n",
    "cols_new = list( map( snakecase, cols_old ) )\n",
    "\n",
    "# rename\n",
    "df1.columns = cols_new"
   ]
  },
  {
   "cell_type": "markdown",
   "id": "ae030980",
   "metadata": {},
   "source": [
    "## 1.3 Data Dimensions"
   ]
  },
  {
   "cell_type": "code",
   "execution_count": 22,
   "id": "1212ad71",
   "metadata": {
    "ExecuteTime": {
     "end_time": "2023-07-09T23:14:24.761411Z",
     "start_time": "2023-07-09T23:14:24.700905Z"
    }
   },
   "outputs": [
    {
     "name": "stdout",
     "output_type": "stream",
     "text": [
      "From 224649 number of rows in Raw Data to 45977 rows filtered\n",
      "From 385 number of columns in Raw Data to 385 columns filtered\n"
     ]
    }
   ],
   "source": [
    "print( 'From {} number of rows in Raw Data to {} rows filtered'.format(df_raw.shape[0], df1.shape[0]) )\n",
    "print( 'From {} number of columns in Raw Data to {} columns filtered'.format(df_raw.shape[1], df1.shape[1]) )"
   ]
  },
  {
   "cell_type": "markdown",
   "id": "974524b2",
   "metadata": {},
   "source": [
    "## 1.4 Check NA"
   ]
  },
  {
   "cell_type": "markdown",
   "id": "434ced41",
   "metadata": {},
   "source": [
    "### 1.4.1 Create Data Frame with NA Percentage"
   ]
  },
  {
   "cell_type": "code",
   "execution_count": 24,
   "id": "3578c434",
   "metadata": {
    "ExecuteTime": {
     "end_time": "2023-07-09T23:14:25.459039Z",
     "start_time": "2023-07-09T23:14:25.037842Z"
    }
   },
   "outputs": [],
   "source": [
    "df_isnull = pd.DataFrame(df1.isna().sum()).reset_index()\n",
    "df_isnull.columns = ['attribute', 'value']\n",
    "df_isnull['perc'] = round((df_isnull['value'] / df1.shape[0]) * 100, 2)"
   ]
  },
  {
   "cell_type": "code",
   "execution_count": 65,
   "id": "5e0022b4",
   "metadata": {},
   "outputs": [
    {
     "data": {
      "text/html": [
       "<div>\n",
       "<style scoped>\n",
       "    .dataframe tbody tr th:only-of-type {\n",
       "        vertical-align: middle;\n",
       "    }\n",
       "\n",
       "    .dataframe tbody tr th {\n",
       "        vertical-align: top;\n",
       "    }\n",
       "\n",
       "    .dataframe thead th {\n",
       "        text-align: right;\n",
       "    }\n",
       "</style>\n",
       "<table border=\"1\" class=\"dataframe\">\n",
       "  <thead>\n",
       "    <tr style=\"text-align: right;\">\n",
       "      <th></th>\n",
       "      <th>attribute</th>\n",
       "      <th>value</th>\n",
       "      <th>perc</th>\n",
       "    </tr>\n",
       "  </thead>\n",
       "  <tbody>\n",
       "    <tr>\n",
       "      <th>264</th>\n",
       "      <td>tp_indigena_lingua</td>\n",
       "      <td>45943</td>\n",
       "      <td>99.93</td>\n",
       "    </tr>\n",
       "    <tr>\n",
       "      <th>69</th>\n",
       "      <td>tp_ocupacao_galpao</td>\n",
       "      <td>45867</td>\n",
       "      <td>99.76</td>\n",
       "    </tr>\n",
       "    <tr>\n",
       "      <th>58</th>\n",
       "      <td>co_escola_sede_vinculada</td>\n",
       "      <td>45850</td>\n",
       "      <td>99.72</td>\n",
       "    </tr>\n",
       "    <tr>\n",
       "      <th>59</th>\n",
       "      <td>co_ies_ofertante</td>\n",
       "      <td>45814</td>\n",
       "      <td>99.65</td>\n",
       "    </tr>\n",
       "    <tr>\n",
       "      <th>271</th>\n",
       "      <td>in_reserva_ppi</td>\n",
       "      <td>42291</td>\n",
       "      <td>91.98</td>\n",
       "    </tr>\n",
       "    <tr>\n",
       "      <th>272</th>\n",
       "      <td>in_reserva_renda</td>\n",
       "      <td>42291</td>\n",
       "      <td>91.98</td>\n",
       "    </tr>\n",
       "    <tr>\n",
       "      <th>273</th>\n",
       "      <td>in_reserva_publica</td>\n",
       "      <td>42291</td>\n",
       "      <td>91.98</td>\n",
       "    </tr>\n",
       "    <tr>\n",
       "      <th>274</th>\n",
       "      <td>in_reserva_pcd</td>\n",
       "      <td>42291</td>\n",
       "      <td>91.98</td>\n",
       "    </tr>\n",
       "    <tr>\n",
       "      <th>275</th>\n",
       "      <td>in_reserva_outros</td>\n",
       "      <td>42291</td>\n",
       "      <td>91.98</td>\n",
       "    </tr>\n",
       "    <tr>\n",
       "      <th>276</th>\n",
       "      <td>in_reserva_nenhuma</td>\n",
       "      <td>42291</td>\n",
       "      <td>91.98</td>\n",
       "    </tr>\n",
       "    <tr>\n",
       "      <th>40</th>\n",
       "      <td>in_forma_cont_acordo_coop</td>\n",
       "      <td>37321</td>\n",
       "      <td>81.17</td>\n",
       "    </tr>\n",
       "    <tr>\n",
       "      <th>42</th>\n",
       "      <td>in_forma_cont_coop_tec_fin</td>\n",
       "      <td>37321</td>\n",
       "      <td>81.17</td>\n",
       "    </tr>\n",
       "    <tr>\n",
       "      <th>44</th>\n",
       "      <td>in_tipo_atend_escolarizacao</td>\n",
       "      <td>37321</td>\n",
       "      <td>81.17</td>\n",
       "    </tr>\n",
       "    <tr>\n",
       "      <th>45</th>\n",
       "      <td>in_tipo_atend_ac</td>\n",
       "      <td>37321</td>\n",
       "      <td>81.17</td>\n",
       "    </tr>\n",
       "    <tr>\n",
       "      <th>46</th>\n",
       "      <td>in_tipo_atend_aee</td>\n",
       "      <td>37321</td>\n",
       "      <td>81.17</td>\n",
       "    </tr>\n",
       "    <tr>\n",
       "      <th>43</th>\n",
       "      <td>in_forma_cont_consorcio_pub</td>\n",
       "      <td>37321</td>\n",
       "      <td>81.17</td>\n",
       "    </tr>\n",
       "    <tr>\n",
       "      <th>39</th>\n",
       "      <td>in_forma_cont_termo_fomento</td>\n",
       "      <td>37321</td>\n",
       "      <td>81.17</td>\n",
       "    </tr>\n",
       "    <tr>\n",
       "      <th>38</th>\n",
       "      <td>in_forma_cont_termo_colabora</td>\n",
       "      <td>37321</td>\n",
       "      <td>81.17</td>\n",
       "    </tr>\n",
       "    <tr>\n",
       "      <th>35</th>\n",
       "      <td>tp_poder_publico_parceria</td>\n",
       "      <td>37321</td>\n",
       "      <td>81.17</td>\n",
       "    </tr>\n",
       "    <tr>\n",
       "      <th>41</th>\n",
       "      <td>in_forma_cont_prestacao_serv</td>\n",
       "      <td>37321</td>\n",
       "      <td>81.17</td>\n",
       "    </tr>\n",
       "    <tr>\n",
       "      <th>21</th>\n",
       "      <td>ds_complemento</td>\n",
       "      <td>30849</td>\n",
       "      <td>67.10</td>\n",
       "    </tr>\n",
       "    <tr>\n",
       "      <th>61</th>\n",
       "      <td>tp_ocupacao_predio_escolar</td>\n",
       "      <td>5334</td>\n",
       "      <td>11.60</td>\n",
       "    </tr>\n",
       "    <tr>\n",
       "      <th>72</th>\n",
       "      <td>in_predio_compartilhado</td>\n",
       "      <td>5334</td>\n",
       "      <td>11.60</td>\n",
       "    </tr>\n",
       "    <tr>\n",
       "      <th>355</th>\n",
       "      <td>qt_doc_inf_cre</td>\n",
       "      <td>5056</td>\n",
       "      <td>11.00</td>\n",
       "    </tr>\n",
       "    <tr>\n",
       "      <th>357</th>\n",
       "      <td>qt_doc_fund</td>\n",
       "      <td>5056</td>\n",
       "      <td>11.00</td>\n",
       "    </tr>\n",
       "    <tr>\n",
       "      <th>353</th>\n",
       "      <td>qt_doc_bas</td>\n",
       "      <td>5056</td>\n",
       "      <td>11.00</td>\n",
       "    </tr>\n",
       "    <tr>\n",
       "      <th>356</th>\n",
       "      <td>qt_doc_inf_pre</td>\n",
       "      <td>5056</td>\n",
       "      <td>11.00</td>\n",
       "    </tr>\n",
       "    <tr>\n",
       "      <th>354</th>\n",
       "      <td>qt_doc_inf</td>\n",
       "      <td>5056</td>\n",
       "      <td>11.00</td>\n",
       "    </tr>\n",
       "    <tr>\n",
       "      <th>359</th>\n",
       "      <td>qt_doc_fund_af</td>\n",
       "      <td>5056</td>\n",
       "      <td>11.00</td>\n",
       "    </tr>\n",
       "    <tr>\n",
       "      <th>358</th>\n",
       "      <td>qt_doc_fund_ai</td>\n",
       "      <td>5056</td>\n",
       "      <td>11.00</td>\n",
       "    </tr>\n",
       "  </tbody>\n",
       "</table>\n",
       "</div>"
      ],
      "text/plain": [
       "                        attribute  value   perc\n",
       "264            tp_indigena_lingua  45943  99.93\n",
       "69             tp_ocupacao_galpao  45867  99.76\n",
       "58       co_escola_sede_vinculada  45850  99.72\n",
       "59               co_ies_ofertante  45814  99.65\n",
       "271                in_reserva_ppi  42291  91.98\n",
       "272              in_reserva_renda  42291  91.98\n",
       "273            in_reserva_publica  42291  91.98\n",
       "274                in_reserva_pcd  42291  91.98\n",
       "275             in_reserva_outros  42291  91.98\n",
       "276            in_reserva_nenhuma  42291  91.98\n",
       "40      in_forma_cont_acordo_coop  37321  81.17\n",
       "42     in_forma_cont_coop_tec_fin  37321  81.17\n",
       "44    in_tipo_atend_escolarizacao  37321  81.17\n",
       "45               in_tipo_atend_ac  37321  81.17\n",
       "46              in_tipo_atend_aee  37321  81.17\n",
       "43    in_forma_cont_consorcio_pub  37321  81.17\n",
       "39    in_forma_cont_termo_fomento  37321  81.17\n",
       "38   in_forma_cont_termo_colabora  37321  81.17\n",
       "35      tp_poder_publico_parceria  37321  81.17\n",
       "41   in_forma_cont_prestacao_serv  37321  81.17\n",
       "21                 ds_complemento  30849  67.10\n",
       "61     tp_ocupacao_predio_escolar   5334  11.60\n",
       "72        in_predio_compartilhado   5334  11.60\n",
       "355                qt_doc_inf_cre   5056  11.00\n",
       "357                   qt_doc_fund   5056  11.00\n",
       "353                    qt_doc_bas   5056  11.00\n",
       "356                qt_doc_inf_pre   5056  11.00\n",
       "354                    qt_doc_inf   5056  11.00\n",
       "359                qt_doc_fund_af   5056  11.00\n",
       "358                qt_doc_fund_ai   5056  11.00"
      ]
     },
     "execution_count": 65,
     "metadata": {},
     "output_type": "execute_result"
    }
   ],
   "source": [
    "df_isnull[df_isnull['perc'] != 100].sort_values('perc', ascending=False).head(30)"
   ]
  },
  {
   "cell_type": "markdown",
   "id": "6ed6e884",
   "metadata": {},
   "source": [
    "### 1.4.2 Select Columns to Delete\n",
    "**Column > 60% NA will be deleted**"
   ]
  },
  {
   "cell_type": "code",
   "execution_count": 26,
   "id": "43293e14",
   "metadata": {},
   "outputs": [],
   "source": [
    "cols_remove.extend(list(df_isnull[df_isnull['perc'] > 60]['attribute']))"
   ]
  },
  {
   "cell_type": "markdown",
   "id": "9d3f1fcb",
   "metadata": {},
   "source": [
    "## 1.5 Filtering Columns after Check NA"
   ]
  },
  {
   "cell_type": "code",
   "execution_count": 27,
   "id": "eac53f51",
   "metadata": {},
   "outputs": [],
   "source": [
    "cols_deactivate = [\n",
    "    \"IN_LOCAL_FUNC_SALAS_EMPRESA\",\n",
    "    \"IN_LOCAL_FUNC_TEMPLO_IGREJA\",\n",
    "    \"IN_LOCAL_FUNC_CASA_PROFESSOR\",\n",
    "    \"IN_AGUA_FILTRADA\",\n",
    "    \"IN_ENERGIA_GERADOR\",\n",
    "    \"IN_ENERGIA_OUTROS\",\n",
    "    \"IN_LIXO_JOGA_OUTRA_AREA\",\n",
    "    \"IN_LIXO_OUTROS\",\n",
    "    \"IN_LIXO_RECICLA\",\n",
    "    \"IN_BANHEIRO_FORA_PREDIO\",\n",
    "    \"IN_BANHEIRO_DENTRO_PREDIO\",\n",
    "    \"IN_BERCARIO\",\n",
    "    \"IN_DEPENDENCIAS_PNE\",\n",
    "    \"IN_LAVANDERIA\",\n",
    "    \"QT_SALAS_EXISTENTES\",\n",
    "    \"IN_EQUIP_VIDEOCASSETE\",\n",
    "    \"IN_EQUIP_RETROPROJETOR\",\n",
    "    \"IN_EQUIP_FAX\",\n",
    "    \"IN_EQUIP_FOTO\",\n",
    "    \"QT_EQUIP_VIDEOCASSETE\",\n",
    "    \"QT_EQUIP_PARABOLICA\",\n",
    "    \"QT_EQUIP_COPIADORA\",\n",
    "    \"QT_EQUIP_RETROPROJETOR\",\n",
    "    \"QT_EQUIP_IMPRESSORA\",\n",
    "    \"QT_EQUIP_IMPRESSORA_MULT\",\n",
    "    \"QT_EQUIP_FAX\",\n",
    "    \"QT_EQUIP_FOTO\",\n",
    "    \"QT_COMP_ALUNO\",\n",
    "    \"QT_COMPUTADOR\",\n",
    "    \"QT_COMP_ADMINISTRATIVO\",\n",
    "    \"QT_FUNCIONARIOS\",\n",
    "    \"IN_MATERIAL_ESP_QUILOMBOLA\",\n",
    "    \"IN_MATERIAL_ESP_INDIGENA\",\n",
    "    \"IN_MATERIAL_ESP_NAO_UTILIZA\",\n",
    "    \"IN_BRASIL_ALFABETIZADO\",\n",
    "    \"IN_FINAL_SEMANA\",\n",
    "    \"IN_CONVENIADA_PP\",\n",
    "    \"TP_CONVENIO_PODER_PUBLICO\"\n",
    "]\n",
    "\n",
    "cols_deactivate = [i.lower() for i in cols_deactivate]"
   ]
  },
  {
   "cell_type": "code",
   "execution_count": 28,
   "id": "5c0b51a1",
   "metadata": {},
   "outputs": [],
   "source": [
    "cols_remove.extend(cols_deactivate)"
   ]
  },
  {
   "cell_type": "code",
   "execution_count": 29,
   "id": "80e8567d",
   "metadata": {},
   "outputs": [],
   "source": [
    "df1 = df1.drop(cols_remove, axis=1)"
   ]
  },
  {
   "cell_type": "markdown",
   "id": "7d4bf220",
   "metadata": {},
   "source": [
    "# 2.0 DATA DESCRIPTIONS"
   ]
  },
  {
   "cell_type": "code",
   "execution_count": 73,
   "id": "ac598c25",
   "metadata": {},
   "outputs": [],
   "source": [
    "df2 = df1.copy()"
   ]
  },
  {
   "cell_type": "code",
   "execution_count": 121,
   "id": "f3e2926e",
   "metadata": {},
   "outputs": [
    {
     "data": {
      "text/html": [
       "<div>\n",
       "<style scoped>\n",
       "    .dataframe tbody tr th:only-of-type {\n",
       "        vertical-align: middle;\n",
       "    }\n",
       "\n",
       "    .dataframe tbody tr th {\n",
       "        vertical-align: top;\n",
       "    }\n",
       "\n",
       "    .dataframe thead th {\n",
       "        text-align: right;\n",
       "    }\n",
       "</style>\n",
       "<table border=\"1\" class=\"dataframe\">\n",
       "  <thead>\n",
       "    <tr style=\"text-align: right;\">\n",
       "      <th></th>\n",
       "      <th>nu_ano_censo</th>\n",
       "      <th>no_regiao</th>\n",
       "      <th>co_regiao</th>\n",
       "      <th>no_uf</th>\n",
       "      <th>sg_uf</th>\n",
       "      <th>co_uf</th>\n",
       "      <th>no_municipio</th>\n",
       "      <th>co_municipio</th>\n",
       "      <th>no_mesorregiao</th>\n",
       "      <th>co_mesorregiao</th>\n",
       "      <th>...</th>\n",
       "      <th>qt_tur_fund_af</th>\n",
       "      <th>qt_tur_med</th>\n",
       "      <th>qt_tur_prof</th>\n",
       "      <th>qt_tur_prof_tec</th>\n",
       "      <th>qt_tur_eja</th>\n",
       "      <th>qt_tur_eja_fund</th>\n",
       "      <th>qt_tur_eja_med</th>\n",
       "      <th>qt_tur_esp</th>\n",
       "      <th>qt_tur_esp_cc</th>\n",
       "      <th>qt_tur_esp_ce</th>\n",
       "    </tr>\n",
       "  </thead>\n",
       "  <tbody>\n",
       "    <tr>\n",
       "      <th>31056</th>\n",
       "      <td>2022</td>\n",
       "      <td>Sudeste</td>\n",
       "      <td>3</td>\n",
       "      <td>São Paulo</td>\n",
       "      <td>SP</td>\n",
       "      <td>35</td>\n",
       "      <td>São Paulo</td>\n",
       "      <td>3550308</td>\n",
       "      <td>Metropolitana de São Paulo</td>\n",
       "      <td>15</td>\n",
       "      <td>...</td>\n",
       "      <td>0.0</td>\n",
       "      <td>0.0</td>\n",
       "      <td>0.0</td>\n",
       "      <td>0.0</td>\n",
       "      <td>0.0</td>\n",
       "      <td>0.0</td>\n",
       "      <td>0.0</td>\n",
       "      <td>0.0</td>\n",
       "      <td>0.0</td>\n",
       "      <td>0.0</td>\n",
       "    </tr>\n",
       "    <tr>\n",
       "      <th>31057</th>\n",
       "      <td>2022</td>\n",
       "      <td>Sudeste</td>\n",
       "      <td>3</td>\n",
       "      <td>São Paulo</td>\n",
       "      <td>SP</td>\n",
       "      <td>35</td>\n",
       "      <td>São Paulo</td>\n",
       "      <td>3550308</td>\n",
       "      <td>Metropolitana de São Paulo</td>\n",
       "      <td>15</td>\n",
       "      <td>...</td>\n",
       "      <td>0.0</td>\n",
       "      <td>0.0</td>\n",
       "      <td>0.0</td>\n",
       "      <td>0.0</td>\n",
       "      <td>0.0</td>\n",
       "      <td>0.0</td>\n",
       "      <td>0.0</td>\n",
       "      <td>0.0</td>\n",
       "      <td>0.0</td>\n",
       "      <td>0.0</td>\n",
       "    </tr>\n",
       "    <tr>\n",
       "      <th>31058</th>\n",
       "      <td>2022</td>\n",
       "      <td>Sudeste</td>\n",
       "      <td>3</td>\n",
       "      <td>São Paulo</td>\n",
       "      <td>SP</td>\n",
       "      <td>35</td>\n",
       "      <td>São Paulo</td>\n",
       "      <td>3550308</td>\n",
       "      <td>Metropolitana de São Paulo</td>\n",
       "      <td>15</td>\n",
       "      <td>...</td>\n",
       "      <td>0.0</td>\n",
       "      <td>0.0</td>\n",
       "      <td>0.0</td>\n",
       "      <td>0.0</td>\n",
       "      <td>0.0</td>\n",
       "      <td>0.0</td>\n",
       "      <td>0.0</td>\n",
       "      <td>0.0</td>\n",
       "      <td>0.0</td>\n",
       "      <td>0.0</td>\n",
       "    </tr>\n",
       "    <tr>\n",
       "      <th>31059</th>\n",
       "      <td>2022</td>\n",
       "      <td>Sudeste</td>\n",
       "      <td>3</td>\n",
       "      <td>São Paulo</td>\n",
       "      <td>SP</td>\n",
       "      <td>35</td>\n",
       "      <td>São Paulo</td>\n",
       "      <td>3550308</td>\n",
       "      <td>Metropolitana de São Paulo</td>\n",
       "      <td>15</td>\n",
       "      <td>...</td>\n",
       "      <td>0.0</td>\n",
       "      <td>0.0</td>\n",
       "      <td>0.0</td>\n",
       "      <td>0.0</td>\n",
       "      <td>0.0</td>\n",
       "      <td>0.0</td>\n",
       "      <td>0.0</td>\n",
       "      <td>2.0</td>\n",
       "      <td>2.0</td>\n",
       "      <td>0.0</td>\n",
       "    </tr>\n",
       "    <tr>\n",
       "      <th>31060</th>\n",
       "      <td>2022</td>\n",
       "      <td>Sudeste</td>\n",
       "      <td>3</td>\n",
       "      <td>São Paulo</td>\n",
       "      <td>SP</td>\n",
       "      <td>35</td>\n",
       "      <td>São Paulo</td>\n",
       "      <td>3550308</td>\n",
       "      <td>Metropolitana de São Paulo</td>\n",
       "      <td>15</td>\n",
       "      <td>...</td>\n",
       "      <td>0.0</td>\n",
       "      <td>0.0</td>\n",
       "      <td>0.0</td>\n",
       "      <td>0.0</td>\n",
       "      <td>0.0</td>\n",
       "      <td>0.0</td>\n",
       "      <td>0.0</td>\n",
       "      <td>0.0</td>\n",
       "      <td>0.0</td>\n",
       "      <td>0.0</td>\n",
       "    </tr>\n",
       "    <tr>\n",
       "      <th>...</th>\n",
       "      <td>...</td>\n",
       "      <td>...</td>\n",
       "      <td>...</td>\n",
       "      <td>...</td>\n",
       "      <td>...</td>\n",
       "      <td>...</td>\n",
       "      <td>...</td>\n",
       "      <td>...</td>\n",
       "      <td>...</td>\n",
       "      <td>...</td>\n",
       "      <td>...</td>\n",
       "      <td>...</td>\n",
       "      <td>...</td>\n",
       "      <td>...</td>\n",
       "      <td>...</td>\n",
       "      <td>...</td>\n",
       "      <td>...</td>\n",
       "      <td>...</td>\n",
       "      <td>...</td>\n",
       "      <td>...</td>\n",
       "      <td>...</td>\n",
       "    </tr>\n",
       "    <tr>\n",
       "      <th>35579</th>\n",
       "      <td>2022</td>\n",
       "      <td>Sudeste</td>\n",
       "      <td>3</td>\n",
       "      <td>São Paulo</td>\n",
       "      <td>SP</td>\n",
       "      <td>35</td>\n",
       "      <td>São Paulo</td>\n",
       "      <td>3550308</td>\n",
       "      <td>Metropolitana de São Paulo</td>\n",
       "      <td>15</td>\n",
       "      <td>...</td>\n",
       "      <td>0.0</td>\n",
       "      <td>0.0</td>\n",
       "      <td>0.0</td>\n",
       "      <td>0.0</td>\n",
       "      <td>0.0</td>\n",
       "      <td>0.0</td>\n",
       "      <td>0.0</td>\n",
       "      <td>0.0</td>\n",
       "      <td>0.0</td>\n",
       "      <td>0.0</td>\n",
       "    </tr>\n",
       "    <tr>\n",
       "      <th>35580</th>\n",
       "      <td>2022</td>\n",
       "      <td>Sudeste</td>\n",
       "      <td>3</td>\n",
       "      <td>São Paulo</td>\n",
       "      <td>SP</td>\n",
       "      <td>35</td>\n",
       "      <td>São Paulo</td>\n",
       "      <td>3550308</td>\n",
       "      <td>Metropolitana de São Paulo</td>\n",
       "      <td>15</td>\n",
       "      <td>...</td>\n",
       "      <td>0.0</td>\n",
       "      <td>0.0</td>\n",
       "      <td>0.0</td>\n",
       "      <td>0.0</td>\n",
       "      <td>0.0</td>\n",
       "      <td>0.0</td>\n",
       "      <td>0.0</td>\n",
       "      <td>3.0</td>\n",
       "      <td>3.0</td>\n",
       "      <td>0.0</td>\n",
       "    </tr>\n",
       "    <tr>\n",
       "      <th>35581</th>\n",
       "      <td>2022</td>\n",
       "      <td>Sudeste</td>\n",
       "      <td>3</td>\n",
       "      <td>São Paulo</td>\n",
       "      <td>SP</td>\n",
       "      <td>35</td>\n",
       "      <td>São Paulo</td>\n",
       "      <td>3550308</td>\n",
       "      <td>Metropolitana de São Paulo</td>\n",
       "      <td>15</td>\n",
       "      <td>...</td>\n",
       "      <td>0.0</td>\n",
       "      <td>0.0</td>\n",
       "      <td>0.0</td>\n",
       "      <td>0.0</td>\n",
       "      <td>0.0</td>\n",
       "      <td>0.0</td>\n",
       "      <td>0.0</td>\n",
       "      <td>1.0</td>\n",
       "      <td>1.0</td>\n",
       "      <td>0.0</td>\n",
       "    </tr>\n",
       "    <tr>\n",
       "      <th>35582</th>\n",
       "      <td>2022</td>\n",
       "      <td>Sudeste</td>\n",
       "      <td>3</td>\n",
       "      <td>São Paulo</td>\n",
       "      <td>SP</td>\n",
       "      <td>35</td>\n",
       "      <td>São Paulo</td>\n",
       "      <td>3550308</td>\n",
       "      <td>Metropolitana de São Paulo</td>\n",
       "      <td>15</td>\n",
       "      <td>...</td>\n",
       "      <td>0.0</td>\n",
       "      <td>0.0</td>\n",
       "      <td>0.0</td>\n",
       "      <td>0.0</td>\n",
       "      <td>0.0</td>\n",
       "      <td>0.0</td>\n",
       "      <td>0.0</td>\n",
       "      <td>1.0</td>\n",
       "      <td>1.0</td>\n",
       "      <td>0.0</td>\n",
       "    </tr>\n",
       "    <tr>\n",
       "      <th>35583</th>\n",
       "      <td>2022</td>\n",
       "      <td>Sudeste</td>\n",
       "      <td>3</td>\n",
       "      <td>São Paulo</td>\n",
       "      <td>SP</td>\n",
       "      <td>35</td>\n",
       "      <td>São Paulo</td>\n",
       "      <td>3550308</td>\n",
       "      <td>Metropolitana de São Paulo</td>\n",
       "      <td>15</td>\n",
       "      <td>...</td>\n",
       "      <td>0.0</td>\n",
       "      <td>0.0</td>\n",
       "      <td>0.0</td>\n",
       "      <td>0.0</td>\n",
       "      <td>0.0</td>\n",
       "      <td>0.0</td>\n",
       "      <td>0.0</td>\n",
       "      <td>0.0</td>\n",
       "      <td>0.0</td>\n",
       "      <td>0.0</td>\n",
       "    </tr>\n",
       "  </tbody>\n",
       "</table>\n",
       "<p>4528 rows × 313 columns</p>\n",
       "</div>"
      ],
      "text/plain": [
       "       nu_ano_censo no_regiao  co_regiao      no_uf sg_uf  co_uf no_municipio  \\\n",
       "31056          2022   Sudeste          3  São Paulo    SP     35    São Paulo   \n",
       "31057          2022   Sudeste          3  São Paulo    SP     35    São Paulo   \n",
       "31058          2022   Sudeste          3  São Paulo    SP     35    São Paulo   \n",
       "31059          2022   Sudeste          3  São Paulo    SP     35    São Paulo   \n",
       "31060          2022   Sudeste          3  São Paulo    SP     35    São Paulo   \n",
       "...             ...       ...        ...        ...   ...    ...          ...   \n",
       "35579          2022   Sudeste          3  São Paulo    SP     35    São Paulo   \n",
       "35580          2022   Sudeste          3  São Paulo    SP     35    São Paulo   \n",
       "35581          2022   Sudeste          3  São Paulo    SP     35    São Paulo   \n",
       "35582          2022   Sudeste          3  São Paulo    SP     35    São Paulo   \n",
       "35583          2022   Sudeste          3  São Paulo    SP     35    São Paulo   \n",
       "\n",
       "       co_municipio              no_mesorregiao  co_mesorregiao  ...  \\\n",
       "31056       3550308  Metropolitana de São Paulo              15  ...   \n",
       "31057       3550308  Metropolitana de São Paulo              15  ...   \n",
       "31058       3550308  Metropolitana de São Paulo              15  ...   \n",
       "31059       3550308  Metropolitana de São Paulo              15  ...   \n",
       "31060       3550308  Metropolitana de São Paulo              15  ...   \n",
       "...             ...                         ...             ...  ...   \n",
       "35579       3550308  Metropolitana de São Paulo              15  ...   \n",
       "35580       3550308  Metropolitana de São Paulo              15  ...   \n",
       "35581       3550308  Metropolitana de São Paulo              15  ...   \n",
       "35582       3550308  Metropolitana de São Paulo              15  ...   \n",
       "35583       3550308  Metropolitana de São Paulo              15  ...   \n",
       "\n",
       "      qt_tur_fund_af  qt_tur_med  qt_tur_prof qt_tur_prof_tec  qt_tur_eja  \\\n",
       "31056            0.0         0.0          0.0             0.0         0.0   \n",
       "31057            0.0         0.0          0.0             0.0         0.0   \n",
       "31058            0.0         0.0          0.0             0.0         0.0   \n",
       "31059            0.0         0.0          0.0             0.0         0.0   \n",
       "31060            0.0         0.0          0.0             0.0         0.0   \n",
       "...              ...         ...          ...             ...         ...   \n",
       "35579            0.0         0.0          0.0             0.0         0.0   \n",
       "35580            0.0         0.0          0.0             0.0         0.0   \n",
       "35581            0.0         0.0          0.0             0.0         0.0   \n",
       "35582            0.0         0.0          0.0             0.0         0.0   \n",
       "35583            0.0         0.0          0.0             0.0         0.0   \n",
       "\n",
       "       qt_tur_eja_fund  qt_tur_eja_med  qt_tur_esp  qt_tur_esp_cc  \\\n",
       "31056              0.0             0.0         0.0            0.0   \n",
       "31057              0.0             0.0         0.0            0.0   \n",
       "31058              0.0             0.0         0.0            0.0   \n",
       "31059              0.0             0.0         2.0            2.0   \n",
       "31060              0.0             0.0         0.0            0.0   \n",
       "...                ...             ...         ...            ...   \n",
       "35579              0.0             0.0         0.0            0.0   \n",
       "35580              0.0             0.0         3.0            3.0   \n",
       "35581              0.0             0.0         1.0            1.0   \n",
       "35582              0.0             0.0         1.0            1.0   \n",
       "35583              0.0             0.0         0.0            0.0   \n",
       "\n",
       "      qt_tur_esp_ce  \n",
       "31056           0.0  \n",
       "31057           0.0  \n",
       "31058           0.0  \n",
       "31059           0.0  \n",
       "31060           0.0  \n",
       "...             ...  \n",
       "35579           0.0  \n",
       "35580           0.0  \n",
       "35581           0.0  \n",
       "35582           0.0  \n",
       "35583           0.0  \n",
       "\n",
       "[4528 rows x 313 columns]"
      ]
     },
     "execution_count": 121,
     "metadata": {},
     "output_type": "execute_result"
    }
   ],
   "source": [
    "df2[df2['no_municipio'] == \"São Paulo\"]"
   ]
  },
  {
   "cell_type": "code",
   "execution_count": 116,
   "id": "f14be0ee",
   "metadata": {},
   "outputs": [
    {
     "data": {
      "text/html": [
       "<div>\n",
       "<style scoped>\n",
       "    .dataframe tbody tr th:only-of-type {\n",
       "        vertical-align: middle;\n",
       "    }\n",
       "\n",
       "    .dataframe tbody tr th {\n",
       "        vertical-align: top;\n",
       "    }\n",
       "\n",
       "    .dataframe thead th {\n",
       "        text-align: right;\n",
       "    }\n",
       "</style>\n",
       "<table border=\"1\" class=\"dataframe\">\n",
       "  <thead>\n",
       "    <tr style=\"text-align: right;\">\n",
       "      <th></th>\n",
       "      <th>no_regiao</th>\n",
       "      <th>qt_mat_bas_6_10</th>\n",
       "      <th>qt_mat_bas_11_14</th>\n",
       "      <th>qt_mat_bas_15_17</th>\n",
       "    </tr>\n",
       "  </thead>\n",
       "  <tbody>\n",
       "    <tr>\n",
       "      <th>0</th>\n",
       "      <td>Centro-Oeste</td>\n",
       "      <td>215803.0</td>\n",
       "      <td>143205.0</td>\n",
       "      <td>83749.0</td>\n",
       "    </tr>\n",
       "    <tr>\n",
       "      <th>1</th>\n",
       "      <td>Nordeste</td>\n",
       "      <td>863084.0</td>\n",
       "      <td>529489.0</td>\n",
       "      <td>220045.0</td>\n",
       "    </tr>\n",
       "    <tr>\n",
       "      <th>2</th>\n",
       "      <td>Norte</td>\n",
       "      <td>153160.0</td>\n",
       "      <td>99223.0</td>\n",
       "      <td>55028.0</td>\n",
       "    </tr>\n",
       "    <tr>\n",
       "      <th>3</th>\n",
       "      <td>Sudeste</td>\n",
       "      <td>1198858.0</td>\n",
       "      <td>875780.0</td>\n",
       "      <td>534451.0</td>\n",
       "    </tr>\n",
       "    <tr>\n",
       "      <th>4</th>\n",
       "      <td>Sul</td>\n",
       "      <td>304737.0</td>\n",
       "      <td>210594.0</td>\n",
       "      <td>144607.0</td>\n",
       "    </tr>\n",
       "  </tbody>\n",
       "</table>\n",
       "</div>"
      ],
      "text/plain": [
       "      no_regiao  qt_mat_bas_6_10  qt_mat_bas_11_14  qt_mat_bas_15_17\n",
       "0  Centro-Oeste         215803.0          143205.0           83749.0\n",
       "1      Nordeste         863084.0          529489.0          220045.0\n",
       "2         Norte         153160.0           99223.0           55028.0\n",
       "3       Sudeste        1198858.0          875780.0          534451.0\n",
       "4           Sul         304737.0          210594.0          144607.0"
      ]
     },
     "execution_count": 116,
     "metadata": {},
     "output_type": "execute_result"
    }
   ],
   "source": [
    "hip_1 = df2[['no_regiao', 'qt_mat_bas_6_10', 'qt_mat_bas_11_14', 'qt_mat_bas_15_17']].groupby('no_regiao').sum().reset_index()\n",
    "hip_1"
   ]
  },
  {
   "cell_type": "code",
   "execution_count": 120,
   "id": "c34e0f40",
   "metadata": {},
   "outputs": [
    {
     "data": {
      "image/png": "[encoded data removed]",
      "text/plain": [
       "<Figure size 1600x800 with 1 Axes>"
      ]
     },
     "metadata": {},
     "output_type": "display_data"
    }
   ],
   "source": [
    "fig, ax = plt.subplots(figsize=(16,8))\n",
    "sns.barplot(x='no_regiao', y='qt_mat_bas_6_10', data=hip_1, ax=ax);"
   ]
  },
  {
   "cell_type": "code",
   "execution_count": 43,
   "id": "7455ce47",
   "metadata": {},
   "outputs": [
    {
     "data": {
      "text/html": [
       "<div>\n",
       "<style scoped>\n",
       "    .dataframe tbody tr th:only-of-type {\n",
       "        vertical-align: middle;\n",
       "    }\n",
       "\n",
       "    .dataframe tbody tr th {\n",
       "        vertical-align: top;\n",
       "    }\n",
       "\n",
       "    .dataframe thead th {\n",
       "        text-align: right;\n",
       "    }\n",
       "</style>\n",
       "<table border=\"1\" class=\"dataframe\">\n",
       "  <thead>\n",
       "    <tr style=\"text-align: right;\">\n",
       "      <th></th>\n",
       "      <th>no_regiao</th>\n",
       "      <th>sg_uf</th>\n",
       "      <th>no_municipio</th>\n",
       "    </tr>\n",
       "  </thead>\n",
       "  <tbody>\n",
       "    <tr>\n",
       "      <th>0</th>\n",
       "      <td>Centro-Oeste</td>\n",
       "      <td>DF</td>\n",
       "      <td>687</td>\n",
       "    </tr>\n",
       "    <tr>\n",
       "      <th>1</th>\n",
       "      <td>Centro-Oeste</td>\n",
       "      <td>GO</td>\n",
       "      <td>1461</td>\n",
       "    </tr>\n",
       "    <tr>\n",
       "      <th>2</th>\n",
       "      <td>Centro-Oeste</td>\n",
       "      <td>MS</td>\n",
       "      <td>452</td>\n",
       "    </tr>\n",
       "    <tr>\n",
       "      <th>3</th>\n",
       "      <td>Centro-Oeste</td>\n",
       "      <td>MT</td>\n",
       "      <td>545</td>\n",
       "    </tr>\n",
       "    <tr>\n",
       "      <th>4</th>\n",
       "      <td>Nordeste</td>\n",
       "      <td>AL</td>\n",
       "      <td>863</td>\n",
       "    </tr>\n",
       "    <tr>\n",
       "      <th>5</th>\n",
       "      <td>Nordeste</td>\n",
       "      <td>BA</td>\n",
       "      <td>4429</td>\n",
       "    </tr>\n",
       "    <tr>\n",
       "      <th>6</th>\n",
       "      <td>Nordeste</td>\n",
       "      <td>CE</td>\n",
       "      <td>1781</td>\n",
       "    </tr>\n",
       "    <tr>\n",
       "      <th>7</th>\n",
       "      <td>Nordeste</td>\n",
       "      <td>MA</td>\n",
       "      <td>1097</td>\n",
       "    </tr>\n",
       "    <tr>\n",
       "      <th>8</th>\n",
       "      <td>Nordeste</td>\n",
       "      <td>PB</td>\n",
       "      <td>1180</td>\n",
       "    </tr>\n",
       "    <tr>\n",
       "      <th>9</th>\n",
       "      <td>Nordeste</td>\n",
       "      <td>PE</td>\n",
       "      <td>2153</td>\n",
       "    </tr>\n",
       "    <tr>\n",
       "      <th>10</th>\n",
       "      <td>Nordeste</td>\n",
       "      <td>PI</td>\n",
       "      <td>499</td>\n",
       "    </tr>\n",
       "    <tr>\n",
       "      <th>11</th>\n",
       "      <td>Nordeste</td>\n",
       "      <td>RN</td>\n",
       "      <td>743</td>\n",
       "    </tr>\n",
       "    <tr>\n",
       "      <th>12</th>\n",
       "      <td>Nordeste</td>\n",
       "      <td>SE</td>\n",
       "      <td>458</td>\n",
       "    </tr>\n",
       "    <tr>\n",
       "      <th>13</th>\n",
       "      <td>Norte</td>\n",
       "      <td>AC</td>\n",
       "      <td>43</td>\n",
       "    </tr>\n",
       "    <tr>\n",
       "      <th>14</th>\n",
       "      <td>Norte</td>\n",
       "      <td>AM</td>\n",
       "      <td>379</td>\n",
       "    </tr>\n",
       "    <tr>\n",
       "      <th>15</th>\n",
       "      <td>Norte</td>\n",
       "      <td>AP</td>\n",
       "      <td>89</td>\n",
       "    </tr>\n",
       "    <tr>\n",
       "      <th>16</th>\n",
       "      <td>Norte</td>\n",
       "      <td>PA</td>\n",
       "      <td>1130</td>\n",
       "    </tr>\n",
       "    <tr>\n",
       "      <th>17</th>\n",
       "      <td>Norte</td>\n",
       "      <td>RO</td>\n",
       "      <td>179</td>\n",
       "    </tr>\n",
       "    <tr>\n",
       "      <th>18</th>\n",
       "      <td>Norte</td>\n",
       "      <td>RR</td>\n",
       "      <td>45</td>\n",
       "    </tr>\n",
       "    <tr>\n",
       "      <th>19</th>\n",
       "      <td>Norte</td>\n",
       "      <td>TO</td>\n",
       "      <td>171</td>\n",
       "    </tr>\n",
       "    <tr>\n",
       "      <th>20</th>\n",
       "      <td>Sudeste</td>\n",
       "      <td>ES</td>\n",
       "      <td>409</td>\n",
       "    </tr>\n",
       "    <tr>\n",
       "      <th>21</th>\n",
       "      <td>Sudeste</td>\n",
       "      <td>MG</td>\n",
       "      <td>4059</td>\n",
       "    </tr>\n",
       "    <tr>\n",
       "      <th>22</th>\n",
       "      <td>Sudeste</td>\n",
       "      <td>RJ</td>\n",
       "      <td>5254</td>\n",
       "    </tr>\n",
       "    <tr>\n",
       "      <th>23</th>\n",
       "      <td>Sudeste</td>\n",
       "      <td>SP</td>\n",
       "      <td>11502</td>\n",
       "    </tr>\n",
       "    <tr>\n",
       "      <th>24</th>\n",
       "      <td>Sul</td>\n",
       "      <td>PR</td>\n",
       "      <td>2153</td>\n",
       "    </tr>\n",
       "    <tr>\n",
       "      <th>25</th>\n",
       "      <td>Sul</td>\n",
       "      <td>RS</td>\n",
       "      <td>2792</td>\n",
       "    </tr>\n",
       "    <tr>\n",
       "      <th>26</th>\n",
       "      <td>Sul</td>\n",
       "      <td>SC</td>\n",
       "      <td>1424</td>\n",
       "    </tr>\n",
       "  </tbody>\n",
       "</table>\n",
       "</div>"
      ],
      "text/plain": [
       "       no_regiao sg_uf  no_municipio\n",
       "0   Centro-Oeste    DF           687\n",
       "1   Centro-Oeste    GO          1461\n",
       "2   Centro-Oeste    MS           452\n",
       "3   Centro-Oeste    MT           545\n",
       "4       Nordeste    AL           863\n",
       "5       Nordeste    BA          4429\n",
       "6       Nordeste    CE          1781\n",
       "7       Nordeste    MA          1097\n",
       "8       Nordeste    PB          1180\n",
       "9       Nordeste    PE          2153\n",
       "10      Nordeste    PI           499\n",
       "11      Nordeste    RN           743\n",
       "12      Nordeste    SE           458\n",
       "13         Norte    AC            43\n",
       "14         Norte    AM           379\n",
       "15         Norte    AP            89\n",
       "16         Norte    PA          1130\n",
       "17         Norte    RO           179\n",
       "18         Norte    RR            45\n",
       "19         Norte    TO           171\n",
       "20       Sudeste    ES           409\n",
       "21       Sudeste    MG          4059\n",
       "22       Sudeste    RJ          5254\n",
       "23       Sudeste    SP         11502\n",
       "24           Sul    PR          2153\n",
       "25           Sul    RS          2792\n",
       "26           Sul    SC          1424"
      ]
     },
     "execution_count": 43,
     "metadata": {},
     "output_type": "execute_result"
    }
   ],
   "source": [
    "df1[['no_regiao', 'sg_uf', 'no_municipio']].groupby(['no_regiao', 'sg_uf']).count().reset_index()"
   ]
  },
  {
   "cell_type": "markdown",
   "id": "015bc9f2",
   "metadata": {},
   "source": [
    "# PAREI AQUI"
   ]
  },
  {
   "cell_type": "code",
   "execution_count": 17,
   "id": "f2f389ca",
   "metadata": {
    "ExecuteTime": {
     "end_time": "2023-07-09T23:15:19.382330Z",
     "start_time": "2023-07-09T23:14:25.460521Z"
    }
   },
   "outputs": [
    {
     "ename": "SyntaxError",
     "evalue": "invalid syntax (3272138656.py, line 5)",
     "output_type": "error",
     "traceback": [
      "\u001b[0;36m  Cell \u001b[0;32mIn[17], line 5\u001b[0;36m\u001b[0m\n\u001b[0;31m    df1['<var>'] = df1['<var>'].apply(lambda x: 0 if x['<var>'] == 0 else, axis = 1)\u001b[0m\n\u001b[0m                                                                         ^\u001b[0m\n\u001b[0;31mSyntaxError\u001b[0m\u001b[0;31m:\u001b[0m invalid syntax\n"
     ]
    }
   ],
   "source": [
    "# FLOAT or INT\n",
    "df1['<var>'] = df1['<var>'].apply(lambda x :200000.0 if math.isnan(x) else x)\n",
    "\n",
    "# BINARY (TRUE or FALSE)\n",
    "df1['<var>'] = df1['<var>'].apply(lambda x: 0 if x['<var>'] == 0 else, axis = 1)\n",
    "\n",
    "# maybe useful\n",
    "month_map = {1: 'Jan', 2: 'Feb', 3: 'Mar', 4: 'Apr', 5: 'May', 6: 'Jun', 7: 'Jul', 8: 'Aug', 9: 'Sept', 10: 'Oct', 11: 'Nov', 12: 'Dec'}\n",
    "df1['<var>'] = df1['date'].dt.month.map(month_map)"
   ]
  },
  {
   "cell_type": "markdown",
   "id": "a39546bb",
   "metadata": {},
   "source": [
    "## 1.6 Check Types"
   ]
  },
  {
   "cell_type": "code",
   "execution_count": null,
   "id": "7b1bc670",
   "metadata": {
    "ExecuteTime": {
     "end_time": "2023-07-09T23:15:19.415083Z",
     "start_time": "2023-07-09T23:15:19.384273Z"
    },
    "scrolled": true
   },
   "outputs": [],
   "source": [
    "# INT\n",
    "df1['<var>'] = df1['<var>'].astype(int)\n",
    "\n",
    "# FLOAT\n",
    "df1['<var>'] = df1['<var>'].astype(float)\n",
    "\n",
    "# STR\n",
    "df1['<var>'] = df1['<var>'].astype(str)\n",
    "\n",
    "# DATETIME\n",
    "df1['<var>'] = pd.to_datetime(df1['<var>'])"
   ]
  },
  {
   "cell_type": "markdown",
   "id": "fb2f8496",
   "metadata": {},
   "source": [
    "## 1.7 Descriptive Statistical"
   ]
  },
  {
   "cell_type": "code",
   "execution_count": null,
   "id": "556036ea",
   "metadata": {
    "ExecuteTime": {
     "end_time": "2023-07-09T23:15:19.458421Z",
     "start_time": "2023-07-09T23:15:19.417119Z"
    }
   },
   "outputs": [],
   "source": [
    "num_attributes = df1.select_dtypes(include=['int64', 'float64'])\n",
    "cat_attributes = df1.select_dtypes(exclude=['int64', 'float64', 'datetime64[ns]'])"
   ]
  },
  {
   "cell_type": "markdown",
   "id": "6673d7de",
   "metadata": {},
   "source": [
    "### 1.7.1 Numerical Attributes"
   ]
  },
  {
   "cell_type": "code",
   "execution_count": null,
   "id": "d6a13af7",
   "metadata": {
    "ExecuteTime": {
     "end_time": "2023-07-09T23:15:19.515802Z",
     "start_time": "2023-07-09T23:15:19.463043Z"
    }
   },
   "outputs": [],
   "source": [
    "# Alternative Code\n",
    "num_attributes.agg([\"mean\",\"median\",\"std\",\"min\",\"max\",\"skew\",\"kurtosis\"]).T.reset_index().rename(columns={'index': 'attributes'})"
   ]
  },
  {
   "cell_type": "markdown",
   "id": "0f160da1",
   "metadata": {},
   "source": [
    "### 1.7.2 Categorical Attributes"
   ]
  },
  {
   "cell_type": "code",
   "execution_count": null,
   "id": "a52e4b34",
   "metadata": {
    "ExecuteTime": {
     "end_time": "2023-07-09T23:15:26.054506Z",
     "start_time": "2023-07-09T23:15:25.917357Z"
    }
   },
   "outputs": [],
   "source": [
    "cat_attributes.apply( lambda x: x.unique().shape[0] )"
   ]
  },
  {
   "cell_type": "markdown",
   "id": "fef014ed",
   "metadata": {},
   "source": [
    "# 2.0 FEATURE ENGINEERING"
   ]
  },
  {
   "cell_type": "code",
   "execution_count": null,
   "id": "a2a17910",
   "metadata": {
    "ExecuteTime": {
     "end_time": "2023-07-09T23:15:26.461530Z",
     "start_time": "2023-07-09T23:15:26.413260Z"
    }
   },
   "outputs": [],
   "source": [
    "df2 = df1.copy()"
   ]
  },
  {
   "cell_type": "markdown",
   "id": "17687a80",
   "metadata": {},
   "source": [
    "## 2.1 - Mapa Mental de Hipoteses"
   ]
  },
  {
   "cell_type": "code",
   "execution_count": null,
   "id": "16419537",
   "metadata": {
    "ExecuteTime": {
     "end_time": "2023-07-09T23:15:26.657599Z",
     "start_time": "2023-07-09T23:15:26.463095Z"
    }
   },
   "outputs": [],
   "source": [
    "dir = ''\n",
    "img = ''\n",
    "Image(dir + img)"
   ]
  },
  {
   "cell_type": "markdown",
   "id": "ec99154b",
   "metadata": {},
   "source": [
    "## 2.2 - Criacao das Hipoteses"
   ]
  },
  {
   "cell_type": "markdown",
   "id": "9e98788a",
   "metadata": {},
   "source": [
    "### 2.2.1 - Hipoteses #1"
   ]
  },
  {
   "cell_type": "markdown",
   "id": "f1c3cdf7",
   "metadata": {},
   "source": [
    "**1.** \n",
    "\n",
    "**2.** \n"
   ]
  },
  {
   "cell_type": "markdown",
   "id": "f8720f1c",
   "metadata": {},
   "source": [
    "## 2.3 - Lista Final de Hipoteses"
   ]
  },
  {
   "cell_type": "markdown",
   "id": "0abdda88",
   "metadata": {},
   "source": [
    "**1.** \n",
    "\n",
    "**2.** \n"
   ]
  },
  {
   "cell_type": "markdown",
   "id": "7dd29371",
   "metadata": {},
   "source": [
    "## 2.4 - Feature Engineering"
   ]
  },
  {
   "cell_type": "code",
   "execution_count": null,
   "id": "0c46332f",
   "metadata": {
    "ExecuteTime": {
     "end_time": "2023-07-09T23:16:05.026155Z",
     "start_time": "2023-07-09T23:15:26.659954Z"
    }
   },
   "outputs": [],
   "source": [
    "# year\n",
    "df2['year'] = df2['date'].dt.year\n",
    "\n",
    "# month\n",
    "df2['month'] = df2['date'].dt.month\n",
    "\n",
    "# day\n",
    "df2['day'] = df2['date'].dt.day\n",
    "\n",
    "# week of year\n",
    "df2['week_of_year'] = df2['date'].dt.weekofyear\n",
    "\n",
    "# year week\n",
    "df2['year_week'] = df2['date'].dt.strftime( '%Y-%W' )\n",
    "\n",
    "# categories\n",
    "df2['<var>'] = df2['<var>'].apply( lambda x: 'example1' if x == 'a' else 'example2' if x == 'b' else 'example3' )"
   ]
  },
  {
   "cell_type": "code",
   "execution_count": null,
   "id": "d2f18a85",
   "metadata": {
    "ExecuteTime": {
     "end_time": "2023-07-09T23:16:05.039390Z",
     "start_time": "2023-07-09T23:16:05.027989Z"
    }
   },
   "outputs": [],
   "source": [
    "df2.head().T"
   ]
  },
  {
   "cell_type": "markdown",
   "id": "cf9c4d06",
   "metadata": {},
   "source": [
    "# 3.0 DATA FILTERING"
   ]
  },
  {
   "cell_type": "code",
   "execution_count": null,
   "id": "459a4005",
   "metadata": {
    "ExecuteTime": {
     "end_time": "2023-07-09T23:16:05.558145Z",
     "start_time": "2023-07-09T23:16:05.041466Z"
    }
   },
   "outputs": [],
   "source": [
    "df3 = df2.copy()"
   ]
  },
  {
   "cell_type": "markdown",
   "id": "daf8f03f",
   "metadata": {},
   "source": [
    "## 3.1 - Filtragem das Linhas"
   ]
  },
  {
   "cell_type": "code",
   "execution_count": null,
   "id": "4d645f1d",
   "metadata": {
    "ExecuteTime": {
     "end_time": "2023-07-09T23:16:05.665588Z",
     "start_time": "2023-07-09T23:16:05.560102Z"
    }
   },
   "outputs": [],
   "source": []
  },
  {
   "cell_type": "markdown",
   "id": "1db9e605",
   "metadata": {},
   "source": [
    "## 3.2 - Selecao das Colunas"
   ]
  },
  {
   "cell_type": "code",
   "execution_count": null,
   "id": "b662d287",
   "metadata": {
    "ExecuteTime": {
     "end_time": "2023-07-09T23:16:05.731842Z",
     "start_time": "2023-07-09T23:16:05.667598Z"
    }
   },
   "outputs": [],
   "source": [
    "cols_drop = []\n",
    "df3.drop(cols_drop, axis=1, inplace=True)"
   ]
  },
  {
   "cell_type": "markdown",
   "id": "f041e25e",
   "metadata": {},
   "source": [
    "# 4.0 EXPLORATORY DATA ANALYSIS"
   ]
  },
  {
   "cell_type": "code",
   "execution_count": null,
   "id": "49c485e6",
   "metadata": {
    "ExecuteTime": {
     "end_time": "2023-07-09T23:16:05.823396Z",
     "start_time": "2023-07-09T23:16:05.734148Z"
    }
   },
   "outputs": [],
   "source": [
    "df4 = df3.copy()"
   ]
  },
  {
   "cell_type": "markdown",
   "id": "4ecfd3cc",
   "metadata": {},
   "source": [
    "## 4.1 - Univariate Analysis"
   ]
  },
  {
   "cell_type": "markdown",
   "id": "c0e705a9",
   "metadata": {},
   "source": [
    "### 4.1.1 - Response Variable"
   ]
  },
  {
   "cell_type": "code",
   "execution_count": null,
   "id": "a5a19899",
   "metadata": {
    "ExecuteTime": {
     "end_time": "2023-07-09T23:16:06.891516Z",
     "start_time": "2023-07-09T23:16:05.825210Z"
    },
    "hide_input": false,
    "scrolled": true
   },
   "outputs": [],
   "source": [
    "# EXAMPLE 1\n",
    "# plt.figure(figsize=(15,8))\n",
    "# sns.histplot( df4['<var>'] )"
   ]
  },
  {
   "cell_type": "markdown",
   "id": "1223943b",
   "metadata": {},
   "source": [
    "### 4.1.2 - Numerical Variable"
   ]
  },
  {
   "cell_type": "code",
   "execution_count": null,
   "id": "b54fe979",
   "metadata": {
    "ExecuteTime": {
     "end_time": "2023-07-09T23:16:08.634447Z",
     "start_time": "2023-07-09T23:16:06.893421Z"
    },
    "hide_input": true
   },
   "outputs": [],
   "source": [
    "num_attributes.hist(figsize=(20,12), bins=25);"
   ]
  },
  {
   "cell_type": "markdown",
   "id": "6f86abcd",
   "metadata": {},
   "source": [
    "### 4.1.3 - Categorical Variable"
   ]
  },
  {
   "cell_type": "code",
   "execution_count": null,
   "id": "fb953655",
   "metadata": {},
   "outputs": [],
   "source": []
  },
  {
   "cell_type": "markdown",
   "id": "67d54a2a",
   "metadata": {},
   "source": [
    "## 4.2 - Bivariate Analysis"
   ]
  },
  {
   "cell_type": "markdown",
   "id": "1e388025",
   "metadata": {},
   "source": [
    "### H1 - Example\n",
    "**FALSE** or **TRUE** - Explanation"
   ]
  },
  {
   "cell_type": "code",
   "execution_count": null,
   "id": "c1b2b1f5",
   "metadata": {},
   "outputs": [],
   "source": []
  },
  {
   "cell_type": "markdown",
   "id": "e7ccb119",
   "metadata": {},
   "source": [
    "## 4.3 - Multivariate Analysis"
   ]
  },
  {
   "cell_type": "markdown",
   "id": "ef36b344",
   "metadata": {},
   "source": [
    "### 4.3.1 - Numerical Attributes"
   ]
  },
  {
   "cell_type": "code",
   "execution_count": null,
   "id": "f62472e1",
   "metadata": {
    "ExecuteTime": {
     "end_time": "2023-07-09T23:16:26.835200Z",
     "start_time": "2023-07-09T23:16:25.409980Z"
    }
   },
   "outputs": [],
   "source": [
    "correlation = num_attributes.corr(method='pearson')\n",
    "\n",
    "plt.figure(figsize=(16,10))\n",
    "sns.heatmap(correlation, annot=True);"
   ]
  },
  {
   "cell_type": "markdown",
   "id": "af5b262f",
   "metadata": {},
   "source": [
    "### 4.3.2 - Caterogical Attributes"
   ]
  },
  {
   "cell_type": "code",
   "execution_count": null,
   "id": "9a2a053a",
   "metadata": {
    "ExecuteTime": {
     "end_time": "2023-07-09T23:16:26.845215Z",
     "start_time": "2023-07-09T23:16:26.836829Z"
    }
   },
   "outputs": [],
   "source": [
    "a = df4.select_dtypes( include='object' )\n",
    "a"
   ]
  },
  {
   "cell_type": "code",
   "execution_count": null,
   "id": "af8d40f2",
   "metadata": {},
   "outputs": [],
   "source": [
    "# only categorical data\n",
    "a = df4.select_dtypes( include='object' )\n",
    "cramer_v(a['<cols>'])\n"
   ]
  },
  {
   "cell_type": "markdown",
   "id": "346f27a2",
   "metadata": {},
   "source": [
    "## 4.4 - Resumo das Hipoteses"
   ]
  },
  {
   "cell_type": "code",
   "execution_count": null,
   "id": "1c62d1f8",
   "metadata": {
    "ExecuteTime": {
     "end_time": "2023-07-09T23:16:28.199028Z",
     "start_time": "2023-07-09T23:16:28.194276Z"
    },
    "hide_input": true
   },
   "outputs": [],
   "source": [
    "tab =[\n",
    "['Hipoteses', 'Conclusao', 'Relevancia'],\n",
    "['H1', 'Falsa', 'Baixa'],\n",
    "['H2', 'Falsa', 'Media'],\n",
    "['H3', 'Verdadeira', 'Alta']\n",
    "]\n",
    "print( tabulate( tab, headers='firstrow' ) )"
   ]
  },
  {
   "cell_type": "markdown",
   "id": "f28c01a8",
   "metadata": {},
   "source": [
    "# 5.0 DATA PREPARATION"
   ]
  },
  {
   "cell_type": "code",
   "execution_count": null,
   "id": "dcee807e",
   "metadata": {
    "ExecuteTime": {
     "end_time": "2023-07-09T23:16:28.355763Z",
     "start_time": "2023-07-09T23:16:28.200155Z"
    }
   },
   "outputs": [],
   "source": [
    "df5 = df4.copy()"
   ]
  },
  {
   "cell_type": "markdown",
   "id": "874584e0",
   "metadata": {},
   "source": [
    "## 5.1 - Normalizacao"
   ]
  },
  {
   "cell_type": "code",
   "execution_count": null,
   "id": "5962a74a",
   "metadata": {},
   "outputs": [],
   "source": []
  },
  {
   "cell_type": "markdown",
   "id": "68c03e8e",
   "metadata": {},
   "source": [
    "## 5.2 - Rescaling"
   ]
  },
  {
   "cell_type": "code",
   "execution_count": null,
   "id": "6da83450",
   "metadata": {
    "ExecuteTime": {
     "end_time": "2023-07-09T23:16:28.879045Z",
     "start_time": "2023-07-09T23:16:28.358045Z"
    },
    "hide_input": true
   },
   "outputs": [],
   "source": [
    "plt.figure(figsize=(16,10))\n",
    "sns.boxplot(y=df5['<var>']);"
   ]
  },
  {
   "cell_type": "code",
   "execution_count": null,
   "id": "52c766ff",
   "metadata": {
    "ExecuteTime": {
     "end_time": "2023-07-09T23:16:29.539222Z",
     "start_time": "2023-07-09T23:16:28.880492Z"
    },
    "hide_input": false
   },
   "outputs": [],
   "source": [
    "dir_parameter = 'src/parameter/'\n",
    "\n",
    "# Example RobustScaler\n",
    "rs = RobustScaler()\n",
    "df5['<var>'] = rs.fit_transform( df5[['<var>']].values )\n",
    "pickle.dump( rs, open(dir_parameter + '<archive>.pkl', 'wb') )\n",
    "\n",
    "# Example MinMaxScaler\n",
    "mms = MinMaxScaler()\n",
    "df5['<var>'] = mms.fit_transform( df5[['<var>']].values )\n",
    "pickle.dump( mms, open(dir_parameter + '<archive>.pkl', 'wb') )"
   ]
  },
  {
   "cell_type": "markdown",
   "id": "be2c270e",
   "metadata": {},
   "source": [
    "## 5.3 - Transformacao"
   ]
  },
  {
   "cell_type": "markdown",
   "id": "53d6918f",
   "metadata": {},
   "source": [
    "### 5.3.1 - Encoding"
   ]
  },
  {
   "cell_type": "code",
   "execution_count": null,
   "id": "bc74b685",
   "metadata": {
    "ExecuteTime": {
     "end_time": "2023-07-09T23:16:31.036275Z",
     "start_time": "2023-07-09T23:16:29.540755Z"
    }
   },
   "outputs": [],
   "source": [
    "dir_parameter = 'src/parameter/'\n",
    "\n",
    "# Example One Hot Encoding\n",
    "df5 = pd.get_dummies( df5, prefix=['<var>'], columns=['<var>'] )\n",
    "\n",
    "# Example Label Encoding\n",
    "le = LabelEncoder()\n",
    "df5['<var>'] = le.fit_transform( df5['<var>'] )\n",
    "pickle.dump( le, open(dir_parameter + '<archive>.pkl', 'wb') )\n",
    "\n",
    "# Example Ordinal Encoding\n",
    "assortment_dict = {'basic': 1, 'extra': 2, 'extented': 3}\n",
    "df5['<var>'] = df5['<var>'].map( assortment_dict )"
   ]
  },
  {
   "cell_type": "markdown",
   "id": "31d729fc",
   "metadata": {},
   "source": [
    "### 5.3.2 - Response Variable Transformation"
   ]
  },
  {
   "cell_type": "code",
   "execution_count": null,
   "id": "27ee905f",
   "metadata": {
    "ExecuteTime": {
     "end_time": "2023-07-09T23:16:34.149547Z",
     "start_time": "2023-07-09T23:16:31.038003Z"
    }
   },
   "outputs": [],
   "source": [
    "# Example\n",
    "df5['<var>'] = np.log1p( df5['<var>'] )\n",
    "\n",
    "plt.figure(figsize=(16,10))\n",
    "sns.distplot(df5['<var>'])"
   ]
  },
  {
   "cell_type": "markdown",
   "id": "7f8eddbd",
   "metadata": {},
   "source": [
    "### 5.3.3 - Nature Transformation"
   ]
  },
  {
   "cell_type": "code",
   "execution_count": null,
   "id": "9213499a",
   "metadata": {
    "ExecuteTime": {
     "end_time": "2023-07-09T23:16:43.070350Z",
     "start_time": "2023-07-09T23:16:34.151738Z"
    }
   },
   "outputs": [],
   "source": [
    "# day_of_week\n",
    "df5['day_of_week_sin'] = df5['day_of_week'].apply( lambda x: np.sin( x * ( 2. * np.pi/7 ) ) )\n",
    "df5['day_of_week_cos'] = df5['day_of_week'].apply( lambda x: np.cos( x * ( 2. * np.pi/7 ) ) )\n",
    "\n",
    "# month\n",
    "df5['month_sin'] = df5['month'].apply( lambda x: np.sin( x * ( 2. * np.pi/12 ) ) )\n",
    "df5['month_cos'] = df5['month'].apply( lambda x: np.cos( x * ( 2. * np.pi/12 ) ) )\n",
    "\n",
    "# day \n",
    "df5['day_sin'] = df5['day'].apply( lambda x: np.sin( x * ( 2. * np.pi/30 ) ) )\n",
    "df5['day_cos'] = df5['day'].apply( lambda x: np.cos( x * ( 2. * np.pi/30 ) ) )\n",
    "\n",
    "# week_of_year\n",
    "df5['week_of_year_sin'] = df5['week_of_year'].apply( lambda x: np.sin( x * ( 2. * np.pi/52 ) ) )\n",
    "df5['week_of_year_cos'] = df5['week_of_year'].apply( lambda x: np.cos( x * ( 2. * np.pi/52 ) ) )"
   ]
  },
  {
   "cell_type": "markdown",
   "id": "96b129e3",
   "metadata": {},
   "source": [
    "# 6.0 FEATURE SELECTION"
   ]
  },
  {
   "cell_type": "code",
   "execution_count": null,
   "id": "db294031",
   "metadata": {
    "ExecuteTime": {
     "end_time": "2023-07-09T23:16:44.212977Z",
     "start_time": "2023-07-09T23:16:43.071908Z"
    }
   },
   "outputs": [],
   "source": [
    "df6 = df5.copy()\n",
    "\n",
    "cols_drop = []\n",
    "df6.drop(cols_drop, axis=1, inplace=True)"
   ]
  },
  {
   "cell_type": "markdown",
   "id": "a38e9af4",
   "metadata": {},
   "source": [
    "## 6.1 - Split Dataframe into training and test dataset"
   ]
  },
  {
   "cell_type": "code",
   "execution_count": null,
   "id": "3a196363",
   "metadata": {
    "ExecuteTime": {
     "end_time": "2023-07-09T23:16:44.632792Z",
     "start_time": "2023-07-09T23:16:44.214923Z"
    },
    "scrolled": true
   },
   "outputs": [],
   "source": [
    "X = df6.drop('<var>', axis=1)\n",
    "Y = df6['<var>']\n",
    "\n",
    "x_train, x_test, y_train, y_test = train_test_split(X, Y, test_size=0.2 ,random_state=42)"
   ]
  },
  {
   "cell_type": "markdown",
   "id": "e8835cfc",
   "metadata": {},
   "source": [
    "# 7.0 MACHINE LEARNING MODELLING"
   ]
  },
  {
   "cell_type": "markdown",
   "id": "563d6427",
   "metadata": {},
   "source": [
    "## 7.1 Example Model"
   ]
  },
  {
   "cell_type": "code",
   "execution_count": null,
   "id": "73a61921",
   "metadata": {
    "ExecuteTime": {
     "end_time": "2023-07-09T23:16:50.711056Z",
     "start_time": "2023-07-09T23:16:47.625150Z"
    }
   },
   "outputs": [],
   "source": [
    "# model\n",
    "lr = LinearRegression().fit( x_train, y_train )\n",
    "\n",
    "# prediction\n",
    "yhat_lr = lr.predict( x_test )\n",
    "\n",
    "# performance\n",
    "lr_result = ml_error( 'Linear Regression', np.expm1(y_test), np.expm1(yhat_lr) )\n",
    "lr_result"
   ]
  },
  {
   "cell_type": "markdown",
   "id": "4614a5e5",
   "metadata": {},
   "source": [
    "### 7.1.1 Example Model - Cross Validation"
   ]
  },
  {
   "cell_type": "code",
   "execution_count": null,
   "id": "baec4621",
   "metadata": {
    "ExecuteTime": {
     "end_time": "2023-07-09T23:16:55.428155Z",
     "start_time": "2023-07-09T23:16:50.712869Z"
    }
   },
   "outputs": [],
   "source": [
    "lr_result_cv = cross_validation( x_training, 5, 'Linear Regression', lr )\n",
    "lr_result_cv"
   ]
  },
  {
   "cell_type": "markdown",
   "id": "94877815",
   "metadata": {},
   "source": [
    "# 8.0 HYPERPARAMETER FINE TUNING"
   ]
  },
  {
   "cell_type": "code",
   "execution_count": null,
   "id": "66f2fef6",
   "metadata": {},
   "outputs": [],
   "source": []
  },
  {
   "cell_type": "markdown",
   "id": "e8c8ebf4",
   "metadata": {},
   "source": [
    "# 9.0 TRANSLATE AND INTERPRETATION ERROR"
   ]
  },
  {
   "cell_type": "markdown",
   "id": "8013f45b",
   "metadata": {},
   "source": [
    "## 9.1 Business Performance"
   ]
  },
  {
   "cell_type": "code",
   "execution_count": null,
   "id": "22b99d58",
   "metadata": {
    "ExecuteTime": {
     "end_time": "2023-07-09T23:33:44.406590Z",
     "start_time": "2023-07-09T23:33:43.522232Z"
    }
   },
   "outputs": [],
   "source": []
  },
  {
   "cell_type": "markdown",
   "id": "3f82b977",
   "metadata": {},
   "source": [
    "## 9.2 Total Performance"
   ]
  },
  {
   "cell_type": "code",
   "execution_count": null,
   "id": "11f8f949",
   "metadata": {},
   "outputs": [],
   "source": []
  },
  {
   "cell_type": "markdown",
   "id": "3c6070ac",
   "metadata": {},
   "source": [
    "## 9.3 Macinhe Learning Performance"
   ]
  },
  {
   "cell_type": "code",
   "execution_count": null,
   "id": "bc963e9a",
   "metadata": {},
   "outputs": [],
   "source": []
  }
 ],
 "metadata": {
  "kernelspec": {
   "display_name": "Python 3 (ipykernel)",
   "language": "python",
   "name": "python3"
  },
  "language_info": {
   "codemirror_mode": {
    "name": "ipython",
    "version": 3
   },
   "file_extension": ".py",
   "mimetype": "text/x-python",
   "name": "python",
   "nbconvert_exporter": "python",
   "pygments_lexer": "ipython3",
   "version": "3.10.12"
  },
  "varInspector": {
   "cols": {
    "lenName": 16,
    "lenType": 16,
    "lenVar": 40
   },
   "kernels_config": {
    "python": {
     "delete_cmd_postfix": "",
     "delete_cmd_prefix": "del ",
     "library": "var_list.py",
     "varRefreshCmd": "print(var_dic_list())"
    },
    "r": {
     "delete_cmd_postfix": ") ",
     "delete_cmd_prefix": "rm(",
     "library": "var_list.r",
     "varRefreshCmd": "cat(var_dic_list()) "
    }
   },
   "types_to_exclude": [
    "module",
    "function",
    "builtin_function_or_method",
    "instance",
    "_Feature"
   ],
   "window_display": false
  }
 },
 "nbformat": 4,
 "nbformat_minor": 5
}
