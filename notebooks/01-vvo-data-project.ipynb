{
 "cells": [
  {
   "cell_type": "markdown",
   "id": "c67fd87e",
   "metadata": {},
   "source": [
    "# 0.0 IMPORTS"
   ]
  },
  {
   "cell_type": "code",
   "execution_count": 49,
   "id": "a57500bf",
   "metadata": {
    "ExecuteTime": {
     "end_time": "2023-07-09T23:14:21.239883Z",
     "start_time": "2023-07-09T23:14:12.683463Z"
    }
   },
   "outputs": [],
   "source": [
    "import inflection\n",
    "import math\n",
    "import datetime\n",
    "import warnings\n",
    "import seaborn                            as sns\n",
    "import pandas                             as pd\n",
    "import numpy                              as np\n",
    "import matplotlib.pyplot                  as plt\n",
    "\n",
    "from matplotlib.ticker       import FuncFormatter\n",
    "from scipy                   import stats as ss\n",
    "from IPython.display         import Image\n",
    "\n",
    "from sklearn.preprocessing   import RobustScaler, MinMaxScaler, LabelEncoder\n",
    "from sklearn.metrics         import mean_absolute_error, mean_absolute_percentage_error, mean_squared_error\n",
    "from sklearn.model_selection import train_test_split"
   ]
  },
  {
   "cell_type": "markdown",
   "id": "a7848568",
   "metadata": {},
   "source": [
    "## 0.1 Helper Functions"
   ]
  },
  {
   "cell_type": "code",
   "execution_count": 2,
   "id": "a69db5ae",
   "metadata": {
    "ExecuteTime": {
     "end_time": "2023-07-09T23:14:21.247820Z",
     "start_time": "2023-07-09T23:14:21.244123Z"
    }
   },
   "outputs": [],
   "source": [
    "warnings.filterwarnings('ignore')"
   ]
  },
  {
   "cell_type": "markdown",
   "id": "16de90d0",
   "metadata": {},
   "source": [
    "## 0.2 Loading Data"
   ]
  },
  {
   "cell_type": "code",
   "execution_count": 3,
   "id": "cdaa3384",
   "metadata": {
    "ExecuteTime": {
     "end_time": "2023-07-09T23:14:24.315533Z",
     "start_time": "2023-07-09T23:14:21.401530Z"
    }
   },
   "outputs": [],
   "source": [
    "dir_data = \"../data/raw/microdados_censo_escolar_educacao_basica_2022/dados/\"\n",
    "file_data = \"microdados_ed_basica_2022.csv\"\n",
    "\n",
    "# CSV\n",
    "df_raw = pd.read_csv(dir_data + file_data, sep=';', encoding = \"ISO-8859-1\")"
   ]
  },
  {
   "cell_type": "markdown",
   "id": "89be8589",
   "metadata": {},
   "source": [
    "## 0.3 Loading Data Dictionary"
   ]
  },
  {
   "cell_type": "code",
   "execution_count": 4,
   "id": "0dd4bd1e",
   "metadata": {},
   "outputs": [],
   "source": [
    "dir_dict = \"../data/raw/microdados_censo_escolar_educacao_basica_2022/Anexos/ANEXO I - Dicionаrio de Dados/\"\n",
    "file_dict = \"dicionario_dados_educacao_basica.xlsx\"\n",
    "\n",
    "# EXCEL\n",
    "df_dict = pd.read_excel(dir_dict + file_dict, skiprows=6, usecols=\"B:F\")"
   ]
  },
  {
   "cell_type": "code",
   "execution_count": 5,
   "id": "5c396615",
   "metadata": {},
   "outputs": [],
   "source": [
    "# Filtering columns relevants by dictionary\n",
    "df_private = (\n",
    "    df_dict\n",
    "    .loc[lambda x: (x['Nome da Variável'].notnull()) & (x['Categoria'].notnull())]\n",
    "    .loc[lambda x: x['Categoria'].str.contains(\"Não aplicável para escolas privadas\")]\n",
    "    .reset_index(drop=True)\n",
    ")"
   ]
  },
  {
   "cell_type": "code",
   "execution_count": 6,
   "id": "9e2f18b6",
   "metadata": {},
   "outputs": [],
   "source": [
    "cols_remove = [i.lower() for i in list(df_private['Nome da Variável'])]"
   ]
  },
  {
   "cell_type": "markdown",
   "id": "cdc85a81",
   "metadata": {},
   "source": [
    "# 1.0 ETL DATA"
   ]
  },
  {
   "cell_type": "code",
   "execution_count": 7,
   "id": "7e90a8f5",
   "metadata": {
    "ExecuteTime": {
     "end_time": "2023-07-09T23:14:24.693829Z",
     "start_time": "2023-07-09T23:14:24.317909Z"
    }
   },
   "outputs": [],
   "source": [
    "df1 = df_raw.copy()"
   ]
  },
  {
   "cell_type": "markdown",
   "id": "23ba4cf2",
   "metadata": {},
   "source": [
    "## 1.1 Filtering Data Relevants"
   ]
  },
  {
   "cell_type": "code",
   "execution_count": 8,
   "id": "fd453a48",
   "metadata": {},
   "outputs": [],
   "source": [
    "df1 = (\n",
    "    df1\n",
    "    .loc[lambda x: (x['TP_DEPENDENCIA'] == 4) & (x['TP_SITUACAO_FUNCIONAMENTO'] == 1)]\n",
    "    .reset_index(drop=True)\n",
    ")"
   ]
  },
  {
   "cell_type": "markdown",
   "id": "00c325c9",
   "metadata": {},
   "source": [
    "## 1.2 Rename Columns"
   ]
  },
  {
   "cell_type": "code",
   "execution_count": 9,
   "id": "0ffe9f9f",
   "metadata": {
    "ExecuteTime": {
     "end_time": "2023-07-09T23:14:24.699583Z",
     "start_time": "2023-07-09T23:14:24.695425Z"
    }
   },
   "outputs": [],
   "source": [
    "cols_old = list(df1.columns)\n",
    "\n",
    "snakecase = lambda x: inflection.underscore(x)\n",
    "\n",
    "cols_new = list( map( snakecase, cols_old ) )\n",
    "\n",
    "# rename\n",
    "df1.columns = cols_new"
   ]
  },
  {
   "cell_type": "markdown",
   "id": "974524b2",
   "metadata": {},
   "source": [
    "## 1.3 Check NA"
   ]
  },
  {
   "cell_type": "markdown",
   "id": "434ced41",
   "metadata": {},
   "source": [
    "### 1.3.1 Create Data Frame with NA Percentage"
   ]
  },
  {
   "cell_type": "code",
   "execution_count": 11,
   "id": "3578c434",
   "metadata": {
    "ExecuteTime": {
     "end_time": "2023-07-09T23:14:25.459039Z",
     "start_time": "2023-07-09T23:14:25.037842Z"
    }
   },
   "outputs": [],
   "source": [
    "df_isnull = pd.DataFrame(df1.isna().sum()).reset_index()\n",
    "df_isnull.columns = ['attribute', 'value']\n",
    "df_isnull['perc'] = round((df_isnull['value'] / df1.shape[0]) * 100, 2)"
   ]
  },
  {
   "cell_type": "code",
   "execution_count": 12,
   "id": "5e0022b4",
   "metadata": {},
   "outputs": [
    {
     "data": {
      "text/html": [
       "<div>\n",
       "<style scoped>\n",
       "    .dataframe tbody tr th:only-of-type {\n",
       "        vertical-align: middle;\n",
       "    }\n",
       "\n",
       "    .dataframe tbody tr th {\n",
       "        vertical-align: top;\n",
       "    }\n",
       "\n",
       "    .dataframe thead th {\n",
       "        text-align: right;\n",
       "    }\n",
       "</style>\n",
       "<table border=\"1\" class=\"dataframe\">\n",
       "  <thead>\n",
       "    <tr style=\"text-align: right;\">\n",
       "      <th></th>\n",
       "      <th>attribute</th>\n",
       "      <th>value</th>\n",
       "      <th>perc</th>\n",
       "    </tr>\n",
       "  </thead>\n",
       "  <tbody>\n",
       "    <tr>\n",
       "      <th>264</th>\n",
       "      <td>tp_indigena_lingua</td>\n",
       "      <td>45943</td>\n",
       "      <td>99.93</td>\n",
       "    </tr>\n",
       "    <tr>\n",
       "      <th>69</th>\n",
       "      <td>tp_ocupacao_galpao</td>\n",
       "      <td>45867</td>\n",
       "      <td>99.76</td>\n",
       "    </tr>\n",
       "    <tr>\n",
       "      <th>58</th>\n",
       "      <td>co_escola_sede_vinculada</td>\n",
       "      <td>45850</td>\n",
       "      <td>99.72</td>\n",
       "    </tr>\n",
       "    <tr>\n",
       "      <th>59</th>\n",
       "      <td>co_ies_ofertante</td>\n",
       "      <td>45814</td>\n",
       "      <td>99.65</td>\n",
       "    </tr>\n",
       "    <tr>\n",
       "      <th>271</th>\n",
       "      <td>in_reserva_ppi</td>\n",
       "      <td>42291</td>\n",
       "      <td>91.98</td>\n",
       "    </tr>\n",
       "    <tr>\n",
       "      <th>272</th>\n",
       "      <td>in_reserva_renda</td>\n",
       "      <td>42291</td>\n",
       "      <td>91.98</td>\n",
       "    </tr>\n",
       "    <tr>\n",
       "      <th>273</th>\n",
       "      <td>in_reserva_publica</td>\n",
       "      <td>42291</td>\n",
       "      <td>91.98</td>\n",
       "    </tr>\n",
       "    <tr>\n",
       "      <th>274</th>\n",
       "      <td>in_reserva_pcd</td>\n",
       "      <td>42291</td>\n",
       "      <td>91.98</td>\n",
       "    </tr>\n",
       "    <tr>\n",
       "      <th>275</th>\n",
       "      <td>in_reserva_outros</td>\n",
       "      <td>42291</td>\n",
       "      <td>91.98</td>\n",
       "    </tr>\n",
       "    <tr>\n",
       "      <th>276</th>\n",
       "      <td>in_reserva_nenhuma</td>\n",
       "      <td>42291</td>\n",
       "      <td>91.98</td>\n",
       "    </tr>\n",
       "    <tr>\n",
       "      <th>40</th>\n",
       "      <td>in_forma_cont_acordo_coop</td>\n",
       "      <td>37321</td>\n",
       "      <td>81.17</td>\n",
       "    </tr>\n",
       "    <tr>\n",
       "      <th>42</th>\n",
       "      <td>in_forma_cont_coop_tec_fin</td>\n",
       "      <td>37321</td>\n",
       "      <td>81.17</td>\n",
       "    </tr>\n",
       "    <tr>\n",
       "      <th>44</th>\n",
       "      <td>in_tipo_atend_escolarizacao</td>\n",
       "      <td>37321</td>\n",
       "      <td>81.17</td>\n",
       "    </tr>\n",
       "    <tr>\n",
       "      <th>45</th>\n",
       "      <td>in_tipo_atend_ac</td>\n",
       "      <td>37321</td>\n",
       "      <td>81.17</td>\n",
       "    </tr>\n",
       "    <tr>\n",
       "      <th>46</th>\n",
       "      <td>in_tipo_atend_aee</td>\n",
       "      <td>37321</td>\n",
       "      <td>81.17</td>\n",
       "    </tr>\n",
       "    <tr>\n",
       "      <th>43</th>\n",
       "      <td>in_forma_cont_consorcio_pub</td>\n",
       "      <td>37321</td>\n",
       "      <td>81.17</td>\n",
       "    </tr>\n",
       "    <tr>\n",
       "      <th>39</th>\n",
       "      <td>in_forma_cont_termo_fomento</td>\n",
       "      <td>37321</td>\n",
       "      <td>81.17</td>\n",
       "    </tr>\n",
       "    <tr>\n",
       "      <th>38</th>\n",
       "      <td>in_forma_cont_termo_colabora</td>\n",
       "      <td>37321</td>\n",
       "      <td>81.17</td>\n",
       "    </tr>\n",
       "    <tr>\n",
       "      <th>35</th>\n",
       "      <td>tp_poder_publico_parceria</td>\n",
       "      <td>37321</td>\n",
       "      <td>81.17</td>\n",
       "    </tr>\n",
       "    <tr>\n",
       "      <th>41</th>\n",
       "      <td>in_forma_cont_prestacao_serv</td>\n",
       "      <td>37321</td>\n",
       "      <td>81.17</td>\n",
       "    </tr>\n",
       "    <tr>\n",
       "      <th>21</th>\n",
       "      <td>ds_complemento</td>\n",
       "      <td>30849</td>\n",
       "      <td>67.10</td>\n",
       "    </tr>\n",
       "    <tr>\n",
       "      <th>61</th>\n",
       "      <td>tp_ocupacao_predio_escolar</td>\n",
       "      <td>5334</td>\n",
       "      <td>11.60</td>\n",
       "    </tr>\n",
       "    <tr>\n",
       "      <th>72</th>\n",
       "      <td>in_predio_compartilhado</td>\n",
       "      <td>5334</td>\n",
       "      <td>11.60</td>\n",
       "    </tr>\n",
       "    <tr>\n",
       "      <th>355</th>\n",
       "      <td>qt_doc_inf_cre</td>\n",
       "      <td>5056</td>\n",
       "      <td>11.00</td>\n",
       "    </tr>\n",
       "    <tr>\n",
       "      <th>357</th>\n",
       "      <td>qt_doc_fund</td>\n",
       "      <td>5056</td>\n",
       "      <td>11.00</td>\n",
       "    </tr>\n",
       "    <tr>\n",
       "      <th>353</th>\n",
       "      <td>qt_doc_bas</td>\n",
       "      <td>5056</td>\n",
       "      <td>11.00</td>\n",
       "    </tr>\n",
       "    <tr>\n",
       "      <th>356</th>\n",
       "      <td>qt_doc_inf_pre</td>\n",
       "      <td>5056</td>\n",
       "      <td>11.00</td>\n",
       "    </tr>\n",
       "    <tr>\n",
       "      <th>354</th>\n",
       "      <td>qt_doc_inf</td>\n",
       "      <td>5056</td>\n",
       "      <td>11.00</td>\n",
       "    </tr>\n",
       "    <tr>\n",
       "      <th>359</th>\n",
       "      <td>qt_doc_fund_af</td>\n",
       "      <td>5056</td>\n",
       "      <td>11.00</td>\n",
       "    </tr>\n",
       "    <tr>\n",
       "      <th>358</th>\n",
       "      <td>qt_doc_fund_ai</td>\n",
       "      <td>5056</td>\n",
       "      <td>11.00</td>\n",
       "    </tr>\n",
       "  </tbody>\n",
       "</table>\n",
       "</div>"
      ],
      "text/plain": [
       "                        attribute  value   perc\n",
       "264            tp_indigena_lingua  45943  99.93\n",
       "69             tp_ocupacao_galpao  45867  99.76\n",
       "58       co_escola_sede_vinculada  45850  99.72\n",
       "59               co_ies_ofertante  45814  99.65\n",
       "271                in_reserva_ppi  42291  91.98\n",
       "272              in_reserva_renda  42291  91.98\n",
       "273            in_reserva_publica  42291  91.98\n",
       "274                in_reserva_pcd  42291  91.98\n",
       "275             in_reserva_outros  42291  91.98\n",
       "276            in_reserva_nenhuma  42291  91.98\n",
       "40      in_forma_cont_acordo_coop  37321  81.17\n",
       "42     in_forma_cont_coop_tec_fin  37321  81.17\n",
       "44    in_tipo_atend_escolarizacao  37321  81.17\n",
       "45               in_tipo_atend_ac  37321  81.17\n",
       "46              in_tipo_atend_aee  37321  81.17\n",
       "43    in_forma_cont_consorcio_pub  37321  81.17\n",
       "39    in_forma_cont_termo_fomento  37321  81.17\n",
       "38   in_forma_cont_termo_colabora  37321  81.17\n",
       "35      tp_poder_publico_parceria  37321  81.17\n",
       "41   in_forma_cont_prestacao_serv  37321  81.17\n",
       "21                 ds_complemento  30849  67.10\n",
       "61     tp_ocupacao_predio_escolar   5334  11.60\n",
       "72        in_predio_compartilhado   5334  11.60\n",
       "355                qt_doc_inf_cre   5056  11.00\n",
       "357                   qt_doc_fund   5056  11.00\n",
       "353                    qt_doc_bas   5056  11.00\n",
       "356                qt_doc_inf_pre   5056  11.00\n",
       "354                    qt_doc_inf   5056  11.00\n",
       "359                qt_doc_fund_af   5056  11.00\n",
       "358                qt_doc_fund_ai   5056  11.00"
      ]
     },
     "execution_count": 12,
     "metadata": {},
     "output_type": "execute_result"
    }
   ],
   "source": [
    "df_isnull[df_isnull['perc'] != 100].sort_values('perc', ascending=False).head(30)"
   ]
  },
  {
   "cell_type": "markdown",
   "id": "6ed6e884",
   "metadata": {},
   "source": [
    "### 1.3.2 Select Columns to Delete\n",
    "**Column > 60% NA will be deleted**"
   ]
  },
  {
   "cell_type": "code",
   "execution_count": 13,
   "id": "43293e14",
   "metadata": {},
   "outputs": [],
   "source": [
    "cols_remove.extend(list(df_isnull[df_isnull['perc'] > 60]['attribute']))"
   ]
  },
  {
   "cell_type": "markdown",
   "id": "9d3f1fcb",
   "metadata": {},
   "source": [
    "## 1.4 Filtering Columns after Check NA"
   ]
  },
  {
   "cell_type": "code",
   "execution_count": 14,
   "id": "eac53f51",
   "metadata": {},
   "outputs": [],
   "source": [
    "cols_deactivate = [\n",
    "    \"IN_LOCAL_FUNC_SALAS_EMPRESA\",  \t\t\t\t\"IN_LIXO_JOGA_OUTRA_AREA\",                  \t\"QT_PROF_ADMINISTRATIVOS\",\n",
    "    \"IN_LOCAL_FUNC_TEMPLO_IGREJA\",              \t\"IN_LIXO_OUTROS\",                           \t\"IN_PROF_SERVICOS_GERAIS\",\n",
    "    \"IN_LOCAL_FUNC_CASA_PROFESSOR\",             \t\"IN_LIXO_RECICLA\",                          \t\"QT_PROF_SERVICOS_GERAIS\",\n",
    "    \"IN_AGUA_FILTRADA\",                         \t\"IN_TRATAMENTO_LIXO_SEPARACAO\",             \t\"IN_PROF_BIBLIOTECARIO\",\n",
    "    \"IN_ENERGIA_GERADOR\",                       \t\"IN_TRATAMENTO_LIXO_REUTILIZA\",             \t\"QT_PROF_BIBLIOTECARIO\",\n",
    "    \"IN_ENERGIA_OUTROS\",                        \t\"IN_TRATAMENTO_LIXO_RECICLAGEM\",            \t\"IN_PROF_SAUDE\",\n",
    "    \"IN_LIXO_JOGA_OUTRA_AREA\",                  \t\"IN_TRATAMENTO_LIXO_INEXISTENTE\",           \t\"QT_PROF_SAUDE\",\n",
    "    \"IN_LIXO_OUTROS\",                           \t\"IN_ALMOXARIFADO\",                          \t\"IN_PROF_COORDENADOR\",\n",
    "    \"IN_LIXO_RECICLA\",                          \t\"IN_AREA_VERDE\",                            \t\"QT_PROF_COORDENADOR\",\n",
    "    \"IN_BANHEIRO_FORA_PREDIO\",                  \t\"IN_AUDITORIO\",                             \t\"IN_PROF_FONAUDIOLOGO\",\n",
    "    \"IN_BANHEIRO_DENTRO_PREDIO\",                \t\"IN_BANHEIRO_FORA_PREDIO\",                  \t\"QT_PROF_FONAUDIOLOGO\",\n",
    "    \"IN_BERCARIO\",                              \t\"IN_BANHEIRO_DENTRO_PREDIO\",                \t\"IN_PROF_NUTRICIONISTA\",\n",
    "    \"IN_DEPENDENCIAS_PNE\",                      \t\"IN_BANHEIRO\",                              \t\"QT_PROF_NUTRICIONISTA\",\n",
    "    \"IN_LAVANDERIA\",                            \t\"IN_BANHEIRO_EI\",                           \t\"IN_PROF_PSICOLOGO\",\n",
    "    \"QT_SALAS_EXISTENTES\",                      \t\"IN_BANHEIRO_PNE\",                          \t\"QT_PROF_PSICOLOGO\",\n",
    "    \"IN_EQUIP_VIDEOCASSETE\",                    \t\"IN_BANHEIRO_FUNCIONARIOS\",                 \t\"IN_PROF_ALIMENTACAO\",\n",
    "    \"IN_EQUIP_RETROPROJETOR\",                   \t\"IN_BANHEIRO_CHUVEIRO\",                     \t\"QT_PROF_ALIMENTACAO\",\n",
    "    \"IN_EQUIP_FAX\",                             \t\"IN_BERCARIO\",                              \t\"IN_PROF_PEDAGOGIA\",\n",
    "    \"IN_EQUIP_FOTO\",                            \t\"IN_BIBLIOTECA\",                            \t\"QT_PROF_PEDAGOGIA\",\n",
    "    \"QT_EQUIP_VIDEOCASSETE\",                    \t\"IN_BIBLIOTECA_SALA_LEITURA\",               \t\"IN_PROF_SECRETARIO\",\n",
    "    \"QT_EQUIP_PARABOLICA\",                      \t\"IN_COZINHA\",                               \t\"QT_PROF_SECRETARIO\",\n",
    "    \"QT_EQUIP_COPIADORA\",                       \t\"IN_DESPENSA\",                              \t\"IN_PROF_SEGURANCA\",\n",
    "    \"QT_EQUIP_RETROPROJETOR\",                   \t\"IN_DORMITORIO_ALUNO\",                      \t\"QT_PROF_SEGURANCA\",\n",
    "    \"QT_EQUIP_IMPRESSORA\",                      \t\"IN_DORMITORIO_PROFESSOR\",                  \t\"IN_PROF_MONITORES\",\n",
    "    \"QT_EQUIP_IMPRESSORA_MULT\",                 \t\"IN_LABORATORIO_CIENCIAS\",                  \t\"QT_PROF_MONITORES\",\n",
    "    \"QT_EQUIP_FAX\",                             \t\"IN_LABORATORIO_INFORMATICA\",               \t\"IN_PROF_GESTAO\",\n",
    "    \"QT_EQUIP_FOTO\",                            \t\"IN_LABORATORIO_EDUC_PROF\",                 \t\"QT_PROF_GESTAO\",\n",
    "    \"QT_COMP_ALUNO\",                            \t\"IN_PATIO_COBERTO\",                         \t\"IN_PROF_ASSIST_SOCIAL\",\n",
    "    \"QT_COMPUTADOR\",                            \t\"IN_PATIO_DESCOBERTO\",                      \t\"QT_PROF_ASSIST_SOCIAL\",\n",
    "    \"QT_COMP_ADMINISTRATIVO\",                   \t\"IN_PARQUE_INFANTIL\",                       \t\"IN_ALIMENTACAO\",\n",
    "    \"QT_FUNCIONARIOS\",                          \t\"IN_PISCINA\",                               \t\"IN_SERIE_ANO\",\n",
    "    \"IN_MATERIAL_ESP_QUILOMBOLA\",               \t\"IN_QUADRA_ESPORTES\",                       \t\"IN_PERIODOS_SEMESTRAIS\",\n",
    "    \"IN_MATERIAL_ESP_INDIGENA\",                 \t\"IN_QUADRA_ESPORTES_COBERTA\",               \t\"IN_FUNDAMENTAL_CICLOS\",\n",
    "    \"IN_MATERIAL_ESP_NAO_UTILIZA\",              \t\"IN_QUADRA_ESPORTES_DESCOBERTA\",            \t\"IN_GRUPOS_NAO_SERIADOS\",\n",
    "    \"IN_BRASIL_ALFABETIZADO\",                   \t\"IN_REFEITORIO\",                            \t\"IN_MODULOS\",\n",
    "    \"IN_FINAL_SEMANA\",                          \t\"IN_SALA_ATELIE_ARTES\",                     \t\"IN_FORMACAO_ALTERNANCIA\",\n",
    "    \"IN_CONVENIADA_PP\",                         \t\"IN_SALA_MUSICA_CORAL\",                     \t\"IN_MATERIAL_PED_MULTIMIDIA\",\n",
    "    \"TP_CONVENIO_PODER_PUBLICO\",                \t\"IN_SALA_ESTUDIO_DANCA\",                    \t\"IN_MATERIAL_PED_INFANTIL\",\n",
    "\t\"TP_LOCALIZACAO\",                           \t\"IN_SALA_MULTIUSO\",                         \t\"IN_MATERIAL_PED_CIENTIFICO\",\n",
    "\t\"TP_LOCALIZACAO_DIFERENCIADA\",              \t\"IN_SALA_OFICINAS_EDUC_PROF\",               \t\"IN_MATERIAL_PED_DIFUSAO\",\n",
    "\t\"NU_DDD\",                                   \t\"IN_SALA_DIRETORIA\",                        \t\"IN_MATERIAL_PED_MUSICAL\",\n",
    "\t\"NU_TELEFONE\",                              \t\"IN_SALA_LEITURA\",                          \t\"IN_MATERIAL_PED_JOGOS\",\n",
    "\t\"TP_SITUACAO_FUNCIONAMENTO\",                \t\"IN_SALA_PROFESSOR\",                        \t\"IN_MATERIAL_PED_ARTISTICAS\",\n",
    "\t\"CO_ORGAO_REGIONAL\",                        \t\"IN_SALA_REPOUSO_ALUNO\",                    \t\"IN_MATERIAL_PED_PROFISSIONAL\",\n",
    "\t\"DT_ANO_LETIVO_INICIO\",                     \t\"IN_SECRETARIA\",                            \t\"IN_MATERIAL_PED_DESPORTIVA\",\n",
    "\t\"DT_ANO_LETIVO_TERMINO\",                    \t\"IN_SALA_ATENDIMENTO_ESPECIAL\",             \t\"IN_MATERIAL_PED_INDIGENA\",\n",
    "\t\"IN_VINCULO_SECRETARIA_EDUCACAO\",           \t\"IN_TERREIRAO\",                             \t\"IN_MATERIAL_PED_ETNICO\",\n",
    "\t\"IN_VINCULO_SEGURANCA_PUBLICA\",             \t\"IN_VIVEIRO\",                               \t\"IN_MATERIAL_PED_CAMPO\",\n",
    "\t\"IN_VINCULO_SECRETARIA_SAUDE\",              \t\"IN_DEPENDENCIAS_PNE\",                      \t\"IN_MATERIAL_PED_NENHUM\",\n",
    "\t\"IN_VINCULO_OUTRO_ORGAO\",                   \t\"IN_LAVANDERIA\",                            \t\"IN_MATERIAL_ESP_QUILOMBOLA\",\n",
    "\t\"IN_PODER_PUBLICO_PARCERIA\",                \t\"IN_DEPENDENCIAS_OUTRAS\",                   \t\"IN_MATERIAL_ESP_INDIGENA\",\n",
    "\t\"TP_PODER_PUBLICO_PARCERIA\",                \t\"IN_ACESSIBILIDADE_CORRIMAO\",               \t\"IN_MATERIAL_ESP_NAO_UTILIZA\",\n",
    "\t\"IN_CONVENIADA_PP\",                         \t\"IN_ACESSIBILIDADE_ELEVADOR\",               \t\"IN_EDUCACAO_INDIGENA\",\n",
    "\t\"TP_CONVENIO_PODER_PUBLICO\",                \t\"IN_ACESSIBILIDADE_PISOS_TATEIS\",           \t\"TP_INDIGENA_LINGUA\",\n",
    "\t\"IN_FORMA_CONT_TERMO_COLABORA\",             \t\"IN_ACESSIBILIDADE_VAO_LIVRE\",              \t\"CO_LINGUA_INDIGENA_1\",\n",
    "\t\"IN_FORMA_CONT_TERMO_FOMENTO\",              \t\"IN_ACESSIBILIDADE_RAMPAS\",                 \t\"CO_LINGUA_INDIGENA_2\",\n",
    "\t\"IN_FORMA_CONT_ACORDO_COOP\",                \t\"IN_ACESSIBILIDADE_SINAL_SONORO\",           \t\"CO_LINGUA_INDIGENA_3\",\n",
    "\t\"IN_FORMA_CONT_PRESTACAO_SERV\",             \t\"IN_ACESSIBILIDADE_SINAL_TATIL\",            \t\"IN_BRASIL_ALFABETIZADO\",\n",
    "\t\"IN_FORMA_CONT_COOP_TEC_FIN\",               \t\"IN_ACESSIBILIDADE_SINAL_VISUAL\",           \t\"IN_FINAL_SEMANA\",\n",
    "\t\"IN_FORMA_CONT_CONSORCIO_PUB\",              \t\"IN_ACESSIBILIDADE_INEXISTENTE\",            \t\"IN_EXAME_SELECAO\",\n",
    "\t\"IN_TIPO_ATEND_ESCOLARIZACAO\",              \t\"QT_SALAS_EXISTENTES\",                      \t\"IN_RESERVA_PPI\",\n",
    "\t\"IN_TIPO_ATEND_AC\",                         \t\"QT_SALAS_UTILIZADAS_DENTRO\",               \t\"IN_RESERVA_RENDA\",\n",
    "\t\"IN_TIPO_ATEND_AEE\",                        \t\"QT_SALAS_UTILIZADAS_FORA\",                 \t\"IN_RESERVA_PUBLICA\",\n",
    "\t\"IN_MANT_ESCOLA_PRIVADA_EMP\",               \t\"QT_SALAS_UTILIZADAS\",                      \t\"IN_RESERVA_PCD\",\n",
    "\t\"IN_MANT_ESCOLA_PRIVADA_ONG\",               \t\"QT_SALAS_UTILIZA_CLIMATIZADAS\",            \t\"IN_RESERVA_OUTROS\",\n",
    "\t\"IN_MANT_ESCOLA_PRIVADA_OSCIP\",             \t\"QT_SALAS_UTILIZADAS_ACESSIVEIS\",           \t\"IN_RESERVA_NENHUMA\",\n",
    "\t\"IN_MANT_ESCOLA_PRIV_ONG_OSCIP\",            \t\"IN_EQUIP_PARABOLICA\",                      \t\"IN_REDES_SOCIAIS\",\n",
    "\t\"IN_MANT_ESCOLA_PRIVADA_SIND\",              \t\"IN_COMPUTADOR\",                            \t\"IN_ESPACO_ATIVIDADE\",\n",
    "\t\"IN_MANT_ESCOLA_PRIVADA_SIST_S\",            \t\"IN_EQUIP_COPIADORA\",                       \t\"IN_ESPACO_EQUIPAMENTO\",\n",
    "\t\"IN_MANT_ESCOLA_PRIVADA_S_FINS\",            \t\"IN_EQUIP_IMPRESSORA\",                      \t\"IN_ORGAO_ASS_PAIS\",\n",
    "\t\"NU_CNPJ_ESCOLA_PRIVADA\",                   \t\"IN_EQUIP_IMPRESSORA_MULT\",                 \t\"IN_ORGAO_ASS_PAIS_MESTRES\",\n",
    "\t\"NU_CNPJ_MANTENEDORA\",                      \t\"IN_EQUIP_SCANNER\",                         \t\"IN_ORGAO_CONSELHO_ESCOLAR\",\n",
    "\t\"TP_REGULAMENTACAO\",                        \t\"IN_EQUIP_NENHUM\",                          \t\"IN_ORGAO_GREMIO_ESTUDANTIL\",\n",
    "\t\"TP_RESPONSAVEL_REGULAMENTACAO\",            \t\"IN_EQUIP_DVD\",                             \t\"IN_ORGAO_OUTROS\",\n",
    "\t\"CO_ESCOLA_SEDE_VINCULADA\",                 \t\"QT_EQUIP_DVD\",                             \t\"IN_ORGAO_NENHUM\",\n",
    "\t\"CO_IES_OFERTANTE\",                         \t\"IN_EQUIP_SOM\",                             \t\"TP_PROPOSTA_PEDAGOGICA\",\n",
    "\t\"IN_LOCAL_FUNC_PREDIO_ESCOLAR\",             \t\"QT_EQUIP_SOM\",                             \t\"TP_AEE\",\n",
    "\t\"TP_OCUPACAO_PREDIO_ESCOLAR\",               \t\"IN_EQUIP_TV\",                              \t\"TP_ATIVIDADE_COMPLEMENTAR\",\n",
    "\t\"IN_LOCAL_FUNC_SALAS_EMPRESA\",              \t\"QT_EQUIP_TV\",                              \t\"IN_ESCOLARIZACAO\",\n",
    "\t\"IN_LOCAL_FUNC_SOCIOEDUCATIVO\",             \t\"IN_EQUIP_LOUSA_DIGITAL\",                   \t\"IN_MEDIACAO_PRESENCIAL\",\n",
    "\t\"IN_LOCAL_FUNC_UNID_PRISIONAL\",             \t\"QT_EQUIP_LOUSA_DIGITAL\",                   \t\"IN_MEDIACAO_SEMIPRESENCIAL\",\n",
    "\t\"IN_LOCAL_FUNC_PRISIONAL_SOCIO\",            \t\"IN_EQUIP_MULTIMIDIA\",                      \t\"IN_MEDIACAO_EAD\",\n",
    "\t\"IN_LOCAL_FUNC_TEMPLO_IGREJA\",              \t\"QT_EQUIP_MULTIMIDIA\",                      \t\"IN_REGULAR\",\n",
    "\t\"IN_LOCAL_FUNC_CASA_PROFESSOR\",             \t\"IN_EQUIP_VIDEOCASSETE\",                    \t\"IN_DIURNO\",\n",
    "\t\"IN_LOCAL_FUNC_GALPAO\",                     \t\"IN_EQUIP_RETROPROJETOR\",                   \t\"IN_NOTURNO\",\n",
    "\t\"TP_OCUPACAO_GALPAO\",                       \t\"IN_EQUIP_FAX\",                             \t\"IN_EAD\",\n",
    "\t\"IN_LOCAL_FUNC_SALAS_OUTRA_ESC\",            \t\"IN_EQUIP_FOTO\",                            \t\"IN_BAS\",\n",
    "\t\"IN_LOCAL_FUNC_OUTROS\",                     \t\"QT_EQUIP_VIDEOCASSETE\",                    \t\"IN_INF\",\n",
    "\t\"IN_PREDIO_COMPARTILHADO\",                  \t\"QT_EQUIP_PARABOLICA\",                      \t\"IN_INF_CRE\",\n",
    "\t\"IN_AGUA_FILTRADA\",                         \t\"QT_EQUIP_COPIADORA\",                       \t\"IN_INF_PRE\",\n",
    "\t\"IN_AGUA_POTAVEL\",                          \t\"QT_EQUIP_RETROPROJETOR\",                   \t\"IN_FUND\",\n",
    "\t\"IN_AGUA_REDE_PUBLICA\",                     \t\"QT_EQUIP_IMPRESSORA\",                      \t\"IN_FUND_AI\",\n",
    "\t\"IN_AGUA_POCO_ARTESIANO\",                   \t\"QT_EQUIP_IMPRESSORA_MULT\",                 \t\"IN_FUND_AF\",\n",
    "\t\"IN_AGUA_CACIMBA\",                          \t\"QT_EQUIP_FAX\",                             \t\"IN_MED\",\n",
    "\t\"IN_AGUA_FONTE_RIO\",                        \t\"QT_EQUIP_FOTO\",                            \t\"IN_PROF\",\n",
    "\t\"IN_AGUA_INEXISTENTE\",                      \t\"QT_COMP_ALUNO\",                            \t\"IN_PROF_TEC\",\n",
    "\t\"IN_ENERGIA_REDE_PUBLICA\",                  \t\"IN_DESKTOP_ALUNO\",                         \t\"IN_EJA\",\n",
    "\t\"IN_ENERGIA_GERADOR\",                       \t\"QT_DESKTOP_ALUNO\",                         \t\"IN_EJA_FUND\",\n",
    "\t\"IN_ENERGIA_GERADOR_FOSSIL\",                \t\"IN_COMP_PORTATIL_ALUNO\",                   \t\"IN_EJA_MED\",\n",
    "\t\"IN_ENERGIA_OUTROS\",                        \t\"QT_COMP_PORTATIL_ALUNO\",                   \t\"IN_ESP\",\n",
    "\t\"IN_ENERGIA_RENOVAVEL\",                     \t\"IN_TABLET_ALUNO\",                          \t\"IN_ESP_CC\",\n",
    "\t\"IN_ENERGIA_INEXISTENTE\",                   \t\"QT_TABLET_ALUNO\",                          \t\"IN_ESP_CE\",\n",
    "\t\"IN_ESGOTO_REDE_PUBLICA\",                   \t\"QT_COMPUTADOR\",                            \t\"QT_DOC_BAS\",\n",
    "\t\"IN_ESGOTO_FOSSA_SEPTICA\",                  \t\"QT_COMP_ADMINISTRATIVO\",                   \t\"QT_DOC_INF\",\n",
    "\t\"IN_ESGOTO_FOSSA_COMUM\",                    \t\"IN_INTERNET\",                              \t\"QT_DOC_INF_CRE\",\n",
    "\t\"IN_ESGOTO_FOSSA\",                          \t\"IN_INTERNET_ALUNOS\",                       \t\"QT_DOC_INF_PRE\",\n",
    "\t\"IN_ESGOTO_INEXISTENTE\",                    \t\"IN_INTERNET_ADMINISTRATIVO\",               \t\"QT_DOC_FUND\",\n",
    "\t\"IN_LIXO_SERVICO_COLETA\",                   \t\"IN_INTERNET_APRENDIZAGEM\",                 \t\"QT_DOC_FUND_AI\",\n",
    "\t\"IN_LIXO_QUEIMA\",                           \t\"IN_INTERNET_COMUNIDADE\",                   \t\"QT_DOC_FUND_AF\",\n",
    "\t\"IN_LIXO_ENTERRA\",                          \t\"IN_ACESSO_INTERNET_COMPUTADOR\",            \t\"QT_DOC_MED\",\n",
    "\t\"IN_LIXO_DESTINO_FINAL_PUBLICO\",            \t\"IN_ACES_INTERNET_DISP_PESSOAIS\",\t\t\t\t\"QT_DOC_PROF\",\n",
    "\t\"IN_LIXO_DESCARTA_OUTRA_AREA\",              \t\"TP_REDE_LOCAL\",                            \t\"QT_DOC_PROF_TEC\",\n",
    "                                                \t\"IN_BANDA_LARGA\",                           \t\"QT_DOC_EJA\",\n",
    "                                                \t\"QT_FUNCIONARIOS\",                          \t\"QT_DOC_EJA_FUND\",\n",
    "                                                \t\"IN_PROF_ADMINISTRATIVOS\",\t\t\t\t    \t\"QT_DOC_EJA_MED\",\n",
    "                                                                                                \t\"QT_DOC_ESP\",\n",
    "                                                                                                \t\"QT_DOC_ESP_CC\",\n",
    "                                                                                                \t\"QT_DOC_ESP_CE\"\t\t\t\t\t\t\t\t\n",
    "\t\t\t\t\t\t\t\t\t\t\t\t\t\t\t\t\t\t\t\t\t\t\t\t\t]\n",
    "\n",
    "\n",
    "cols_deactivate = [i.lower() for i in cols_deactivate]"
   ]
  },
  {
   "cell_type": "code",
   "execution_count": 15,
   "id": "5c0b51a1",
   "metadata": {},
   "outputs": [],
   "source": [
    "cols_remove.extend(cols_deactivate)"
   ]
  },
  {
   "cell_type": "code",
   "execution_count": 16,
   "id": "80e8567d",
   "metadata": {},
   "outputs": [],
   "source": [
    "df1 = df1.drop(cols_remove, axis=1)"
   ]
  },
  {
   "cell_type": "markdown",
   "id": "ae030980",
   "metadata": {},
   "source": [
    "## 1.5 Data Dimensions"
   ]
  },
  {
   "cell_type": "code",
   "execution_count": 17,
   "id": "1212ad71",
   "metadata": {
    "ExecuteTime": {
     "end_time": "2023-07-09T23:14:24.761411Z",
     "start_time": "2023-07-09T23:14:24.700905Z"
    }
   },
   "outputs": [
    {
     "name": "stdout",
     "output_type": "stream",
     "text": [
      "From 224649 number of rows in Raw Data to 45977 rows filtered\n",
      "From 385 number of columns in Raw Data to 77 columns filtered\n"
     ]
    }
   ],
   "source": [
    "print( 'From {} number of rows in Raw Data to {} rows filtered'.format(df_raw.shape[0], df1.shape[0]) )\n",
    "print( 'From {} number of columns in Raw Data to {} columns filtered'.format(df_raw.shape[1], df1.shape[1]) )"
   ]
  },
  {
   "cell_type": "markdown",
   "id": "7d4bf220",
   "metadata": {},
   "source": [
    "# 2.0 DATA DESCRIPTIONS"
   ]
  },
  {
   "cell_type": "code",
   "execution_count": 18,
   "id": "ac598c25",
   "metadata": {},
   "outputs": [],
   "source": [
    "df2 = df1.copy()"
   ]
  },
  {
   "cell_type": "code",
   "execution_count": 59,
   "id": "848355d4",
   "metadata": {},
   "outputs": [
    {
     "data": {
      "image/png": "[encoded data removed]",
      "text/plain": [
       "<Figure size 1600x600 with 1 Axes>"
      ]
     },
     "metadata": {},
     "output_type": "display_data"
    }
   ],
   "source": [
    "# Agrupando um novo dataframe para análise\n",
    "hip_1 = df2[['no_regiao', 'qt_mat_bas_0_3', 'qt_mat_bas_4_5', 'qt_mat_bas_6_10', 'qt_mat_bas_11_14', 'qt_mat_bas_15_17', 'qt_mat_bas_18_mais']].groupby('no_regiao').sum().reset_index()\n",
    "\n",
    "# Configuração do estilo Seaborn\n",
    "sns.set(style=\"whitegrid\")\n",
    "\n",
    "# Plotando o gráfico\n",
    "plt.figure(figsize=(16, 6))\n",
    "bar_width = 0.15\n",
    "\n",
    "# Ajuste das posições das barras para evitar sobreposições\n",
    "r1 = range(len(hip_1['no_regiao']))\n",
    "r2 = [x + bar_width for x in r1]\n",
    "r3 = [x + bar_width for x in r2]\n",
    "r4 = [x + bar_width for x in r3]\n",
    "r5 = [x + bar_width for x in r4]\n",
    "r6 = [x + bar_width for x in r5]\n",
    "\n",
    "# Criando as barras\n",
    "plt.bar(r1, hip_1['qt_mat_bas_0_3'], color='blue', width=bar_width, edgecolor='grey', label='qt_mat_bas_0_3')\n",
    "plt.bar(r2, hip_1['qt_mat_bas_4_5'], color='orange', width=bar_width, edgecolor='grey', label='qt_mat_bas_4_5')\n",
    "plt.bar(r3, hip_1['qt_mat_bas_6_10'], color='green', width=bar_width, edgecolor='grey', label='qt_mat_bas_6_10')\n",
    "plt.bar(r4, hip_1['qt_mat_bas_11_14'], color='yellow', width=bar_width, edgecolor='grey', label='qt_mat_bas_11_14')\n",
    "plt.bar(r5, hip_1['qt_mat_bas_15_17'], color='red', width=bar_width, edgecolor='grey', label='qt_mat_bas_15_17')\n",
    "plt.bar(r6, hip_1['qt_mat_bas_18_mais'], color='purple', width=bar_width, edgecolor='grey', label='qt_mat_bas_18_mais')\n",
    "\n",
    "# Adicionando rótulos e título\n",
    "plt.xlabel('no_regiao', fontweight='bold')\n",
    "plt.xticks([r + bar_width for r in range(len(hip_1['no_regiao']))], hip_1['no_regiao'])\n",
    "plt.ylabel('Valores', fontweight='bold')\n",
    "plt.title('Valores por no_regiao', fontweight='bold')\n",
    "\n",
    "# Configurando a notação científica no eixo y\n",
    "plt.gca().yaxis.set_major_formatter(FuncFormatter(lambda x, _: '{:.0f}'.format(x)))\n",
    "\n",
    "# Adicionando a legenda\n",
    "plt.legend()\n",
    "\n",
    "# Exibindo o gráfico\n",
    "plt.show()"
   ]
  },
  {
   "cell_type": "code",
   "execution_count": 93,
   "id": "26ab303d",
   "metadata": {},
   "outputs": [
    {
     "data": {
      "text/plain": [
       "[0.3, 1.2999999999999998, 2.3, 3.3, 4.300000000000001]"
      ]
     },
     "execution_count": 93,
     "metadata": {},
     "output_type": "execute_result"
    }
   ],
   "source": [
    "r3"
   ]
  },
  {
   "cell_type": "code",
   "execution_count": 119,
   "id": "f5e1750d",
   "metadata": {},
   "outputs": [
    {
     "data": {
      "text/html": [
       "<div>\n",
       "<style scoped>\n",
       "    .dataframe tbody tr th:only-of-type {\n",
       "        vertical-align: middle;\n",
       "    }\n",
       "\n",
       "    .dataframe tbody tr th {\n",
       "        vertical-align: top;\n",
       "    }\n",
       "\n",
       "    .dataframe thead th {\n",
       "        text-align: right;\n",
       "    }\n",
       "</style>\n",
       "<table border=\"1\" class=\"dataframe\">\n",
       "  <thead>\n",
       "    <tr style=\"text-align: right;\">\n",
       "      <th></th>\n",
       "      <th>Regiao</th>\n",
       "      <th>UF</th>\n",
       "      <th>Valor1</th>\n",
       "      <th>Valor2</th>\n",
       "      <th>Valor3</th>\n",
       "      <th>Valor4</th>\n",
       "      <th>Valor5</th>\n",
       "      <th>Valor6</th>\n",
       "    </tr>\n",
       "  </thead>\n",
       "  <tbody>\n",
       "    <tr>\n",
       "      <th>0</th>\n",
       "      <td>Norte</td>\n",
       "      <td>AM</td>\n",
       "      <td>10</td>\n",
       "      <td>25</td>\n",
       "      <td>12</td>\n",
       "      <td>30</td>\n",
       "      <td>18</td>\n",
       "      <td>22</td>\n",
       "    </tr>\n",
       "    <tr>\n",
       "      <th>1</th>\n",
       "      <td>Norte</td>\n",
       "      <td>PA</td>\n",
       "      <td>15</td>\n",
       "      <td>30</td>\n",
       "      <td>18</td>\n",
       "      <td>35</td>\n",
       "      <td>22</td>\n",
       "      <td>28</td>\n",
       "    </tr>\n",
       "    <tr>\n",
       "      <th>2</th>\n",
       "      <td>Norte</td>\n",
       "      <td>TO</td>\n",
       "      <td>8</td>\n",
       "      <td>22</td>\n",
       "      <td>15</td>\n",
       "      <td>28</td>\n",
       "      <td>20</td>\n",
       "      <td>25</td>\n",
       "    </tr>\n",
       "    <tr>\n",
       "      <th>3</th>\n",
       "      <td>Nordeste</td>\n",
       "      <td>BA</td>\n",
       "      <td>20</td>\n",
       "      <td>40</td>\n",
       "      <td>28</td>\n",
       "      <td>45</td>\n",
       "      <td>35</td>\n",
       "      <td>38</td>\n",
       "    </tr>\n",
       "    <tr>\n",
       "      <th>4</th>\n",
       "      <td>Nordeste</td>\n",
       "      <td>CE</td>\n",
       "      <td>25</td>\n",
       "      <td>35</td>\n",
       "      <td>32</td>\n",
       "      <td>50</td>\n",
       "      <td>40</td>\n",
       "      <td>42</td>\n",
       "    </tr>\n",
       "    <tr>\n",
       "      <th>5</th>\n",
       "      <td>Nordeste</td>\n",
       "      <td>MA</td>\n",
       "      <td>18</td>\n",
       "      <td>28</td>\n",
       "      <td>25</td>\n",
       "      <td>40</td>\n",
       "      <td>32</td>\n",
       "      <td>35</td>\n",
       "    </tr>\n",
       "    <tr>\n",
       "      <th>6</th>\n",
       "      <td>Sudeste</td>\n",
       "      <td>SP</td>\n",
       "      <td>30</td>\n",
       "      <td>45</td>\n",
       "      <td>35</td>\n",
       "      <td>55</td>\n",
       "      <td>42</td>\n",
       "      <td>48</td>\n",
       "    </tr>\n",
       "    <tr>\n",
       "      <th>7</th>\n",
       "      <td>Sudeste</td>\n",
       "      <td>RJ</td>\n",
       "      <td>35</td>\n",
       "      <td>50</td>\n",
       "      <td>40</td>\n",
       "      <td>60</td>\n",
       "      <td>48</td>\n",
       "      <td>54</td>\n",
       "    </tr>\n",
       "    <tr>\n",
       "      <th>8</th>\n",
       "      <td>Sudeste</td>\n",
       "      <td>MG</td>\n",
       "      <td>28</td>\n",
       "      <td>38</td>\n",
       "      <td>30</td>\n",
       "      <td>48</td>\n",
       "      <td>38</td>\n",
       "      <td>45</td>\n",
       "    </tr>\n",
       "    <tr>\n",
       "      <th>9</th>\n",
       "      <td>Sul</td>\n",
       "      <td>RS</td>\n",
       "      <td>22</td>\n",
       "      <td>32</td>\n",
       "      <td>24</td>\n",
       "      <td>42</td>\n",
       "      <td>32</td>\n",
       "      <td>40</td>\n",
       "    </tr>\n",
       "    <tr>\n",
       "      <th>10</th>\n",
       "      <td>Sul</td>\n",
       "      <td>SC</td>\n",
       "      <td>27</td>\n",
       "      <td>37</td>\n",
       "      <td>29</td>\n",
       "      <td>47</td>\n",
       "      <td>37</td>\n",
       "      <td>45</td>\n",
       "    </tr>\n",
       "    <tr>\n",
       "      <th>11</th>\n",
       "      <td>Sul</td>\n",
       "      <td>PR</td>\n",
       "      <td>24</td>\n",
       "      <td>44</td>\n",
       "      <td>34</td>\n",
       "      <td>54</td>\n",
       "      <td>44</td>\n",
       "      <td>50</td>\n",
       "    </tr>\n",
       "    <tr>\n",
       "      <th>12</th>\n",
       "      <td>Centro-Oeste</td>\n",
       "      <td>DF</td>\n",
       "      <td>12</td>\n",
       "      <td>20</td>\n",
       "      <td>15</td>\n",
       "      <td>25</td>\n",
       "      <td>20</td>\n",
       "      <td>28</td>\n",
       "    </tr>\n",
       "    <tr>\n",
       "      <th>13</th>\n",
       "      <td>Centro-Oeste</td>\n",
       "      <td>GO</td>\n",
       "      <td>16</td>\n",
       "      <td>30</td>\n",
       "      <td>20</td>\n",
       "      <td>35</td>\n",
       "      <td>28</td>\n",
       "      <td>36</td>\n",
       "    </tr>\n",
       "    <tr>\n",
       "      <th>14</th>\n",
       "      <td>Centro-Oeste</td>\n",
       "      <td>MS</td>\n",
       "      <td>14</td>\n",
       "      <td>25</td>\n",
       "      <td>18</td>\n",
       "      <td>30</td>\n",
       "      <td>26</td>\n",
       "      <td>32</td>\n",
       "    </tr>\n",
       "  </tbody>\n",
       "</table>\n",
       "</div>"
      ],
      "text/plain": [
       "          Regiao  UF  Valor1  Valor2  Valor3  Valor4  Valor5  Valor6\n",
       "0          Norte  AM      10      25      12      30      18      22\n",
       "1          Norte  PA      15      30      18      35      22      28\n",
       "2          Norte  TO       8      22      15      28      20      25\n",
       "3       Nordeste  BA      20      40      28      45      35      38\n",
       "4       Nordeste  CE      25      35      32      50      40      42\n",
       "5       Nordeste  MA      18      28      25      40      32      35\n",
       "6        Sudeste  SP      30      45      35      55      42      48\n",
       "7        Sudeste  RJ      35      50      40      60      48      54\n",
       "8        Sudeste  MG      28      38      30      48      38      45\n",
       "9            Sul  RS      22      32      24      42      32      40\n",
       "10           Sul  SC      27      37      29      47      37      45\n",
       "11           Sul  PR      24      44      34      54      44      50\n",
       "12  Centro-Oeste  DF      12      20      15      25      20      28\n",
       "13  Centro-Oeste  GO      16      30      20      35      28      36\n",
       "14  Centro-Oeste  MS      14      25      18      30      26      32"
      ]
     },
     "execution_count": 119,
     "metadata": {},
     "output_type": "execute_result"
    }
   ],
   "source": [
    "dados"
   ]
  },
  {
   "cell_type": "code",
   "execution_count": 117,
   "id": "b408e7b0",
   "metadata": {},
   "outputs": [
    {
     "data": {
      "image/png": "[encoded data removed]",
      "text/plain": [
       "<Figure size 1200x600 with 1 Axes>"
      ]
     },
     "metadata": {},
     "output_type": "display_data"
    }
   ],
   "source": [
    "import matplotlib.pyplot as plt\n",
    "import seaborn as sns\n",
    "import pandas as pd\n",
    "\n",
    "# Suponha que você tenha um DataFrame chamado 'dados' com as colunas necessárias\n",
    "# Certifique-se de substituir 'dados' pelo nome real do seu DataFrame e ajustar as colunas conforme necessário.\n",
    "\n",
    "# Exemplo de criação de DataFrame\n",
    "dados = pd.DataFrame({\n",
    "    'Regiao': ['Norte', 'Norte', 'Norte', 'Nordeste', 'Nordeste', 'Nordeste', 'Sudeste', 'Sudeste', 'Sudeste', 'Sul', 'Sul', 'Sul', 'Centro-Oeste', 'Centro-Oeste', 'Centro-Oeste'],\n",
    "    'UF': ['AM', 'PA', 'TO', 'BA', 'CE', 'MA', 'SP', 'RJ', 'MG', 'RS', 'SC', 'PR', 'DF', 'GO', 'MS'],\n",
    "    'Valor1': [10, 15, 8, 20, 25, 18, 30, 35, 28, 22, 27, 24, 12, 16, 14],\n",
    "    'Valor2': [25, 30, 22, 40, 35, 28, 45, 50, 38, 32, 37, 44, 20, 30, 25],\n",
    "    'Valor3': [12, 18, 15, 28, 32, 25, 35, 40, 30, 24, 29, 34, 15, 20, 18],\n",
    "    'Valor4': [30, 35, 28, 45, 50, 40, 55, 60, 48, 42, 47, 54, 25, 35, 30],\n",
    "    'Valor5': [18, 22, 20, 35, 40, 32, 42, 48, 38, 32, 37, 44, 20, 28, 26],\n",
    "    'Valor6': [22, 28, 25, 38, 42, 35, 48, 54, 45, 40, 45, 50, 28, 36, 32]\n",
    "})\n",
    "\n",
    "# Melt o DataFrame para ter uma coluna \"Variavel\" que contém o nome da variável e uma coluna \"Valor\" que contém os valores\n",
    "dados_melted = pd.melt(dados, id_vars=['Regiao', 'UF'], var_name='Variavel', value_name='Valor')\n",
    "\n",
    "# Configure o estilo seaborn para melhorar a estética do gráfico\n",
    "sns.set(style=\"whitegrid\")\n",
    "\n",
    "# Crie o gráfico de barras agrupadas\n",
    "plt.figure(figsize=(12, 6))\n",
    "sns.barplot(x='UF', y='Valor', hue='Variavel', data=dados_melted, palette=\"viridis\")\n",
    "\n",
    "# Adicione título e rótulos aos eixos\n",
    "plt.title('Valores por UF em cada Região do Brasil')\n",
    "plt.xlabel('UF')\n",
    "plt.ylabel('Valor')\n",
    "\n",
    "# Gire os rótulos do eixo x para melhor legibilidade\n",
    "plt.xticks(rotation=45)\n",
    "\n",
    "# Adicione uma legenda\n",
    "plt.legend(title='Variável', bbox_to_anchor=(1, 1))\n",
    "\n",
    "# Exiba o gráfico\n",
    "plt.show()\n"
   ]
  },
  {
   "cell_type": "code",
   "execution_count": 134,
   "id": "90aba29d",
   "metadata": {},
   "outputs": [
    {
     "data": {
      "image/png": "[encoded data removed]",
      "text/plain": [
       "<Figure size 1400x3000 with 5 Axes>"
      ]
     },
     "metadata": {},
     "output_type": "display_data"
    }
   ],
   "source": [
    "# Agrupando um novo dataframe para análise\n",
    "hip_2 = df2[['no_regiao', 'sg_uf', 'qt_mat_bas_0_3', 'qt_mat_bas_4_5', 'qt_mat_bas_6_10', 'qt_mat_bas_11_14', 'qt_mat_bas_15_17', 'qt_mat_bas_18_mais']].groupby(['no_regiao', 'sg_uf']).sum().reset_index()\n",
    "hip_2_melt = pd.melt(hip_2, id_vars=['no_regiao', 'sg_uf'], var_name='Variavel', value_name='Valor')\n",
    "\n",
    "# Configuração do estilo Seaborn\n",
    "sns.set(style=\"whitegrid\")\n",
    "\n",
    "# Obter regiões únicas\n",
    "regions = hip_2['no_regiao'].unique()\n",
    "\n",
    "# Criar subplots para cada região\n",
    "fig, axes = plt.subplots(nrows=len(regions), ncols=1, figsize=(14, 6 * len(regions)))\n",
    "\n",
    "# Iterar sobre as regiões e plotar gráficos\n",
    "for i, region in enumerate(regions):\n",
    "    region_data = hip_2_melt[hip_2_melt['no_regiao'] == region]\n",
    "    \n",
    "    # Ajustar o espaço entre os subplots\n",
    "    plt.subplots_adjust(hspace=0.5)\n",
    "    \n",
    "    # Ajustar as posições das barras para evitar sobreposições\n",
    "    bar_width = 0.2\n",
    "    r_positions = [r + bar_width * j for j, r in enumerate(range(len(region_data['sg_uf'].unique())))]\n",
    "    \n",
    "    # Plotar as barras em cada subplot\n",
    "    for k, uf in enumerate(region_data['sg_uf'].unique()):\n",
    "        uf_data = region_data[region_data['sg_uf'] == uf]\n",
    "        r = [x + bar_width * k for x in r_positions]\n",
    "        sns.barplot(x='sg_uf', y='Valor', hue='Variavel', data=region_data, palette=\"viridis\", ax=axes[i],legend=None)\n",
    "        # axes[i].bar(r, uf_data['qt_mat_bas_0_3'],     color='blue',   width=bar_width, edgecolor='grey', label='qt_mat_bas_0_3'     if k == 0 else '', alpha=0.7)\n",
    "        # axes[i].bar(r, uf_data['qt_mat_bas_4_5'],     color='orange', width=bar_width, edgecolor='grey', label='qt_mat_bas_4_5'     if k == 0 else '', alpha=0.7)\n",
    "        # axes[i].bar(r, uf_data['qt_mat_bas_6_10'],    color='green',  width=bar_width, edgecolor='grey', label='qt_mat_bas_6_10'    if k == 0 else '', alpha=0.7)\n",
    "        # axes[i].bar(r, uf_data['qt_mat_bas_11_14'],   color='yellow', width=bar_width, edgecolor='grey', label='qt_mat_bas_11_14'   if k == 0 else '', alpha=0.7)\n",
    "        # axes[i].bar(r, uf_data['qt_mat_bas_15_17'],   color='red',    width=bar_width, edgecolor='grey', label='qt_mat_bas_15_17'   if k == 0 else '', alpha=0.7)\n",
    "        # axes[i].bar(r, uf_data['qt_mat_bas_18_mais'], color='purple', width=bar_width, edgecolor='grey', label='qt_mat_bas_18_mais' if k == 0 else '', alpha=0.7)\n",
    "    \n",
    "    # Adicionar rótulos e título a cada subplot\n",
    "    axes[i].set_xlabel('UF', fontweight='bold')\n",
    "    axes[i].set_xticks([r + bar_width for r in range(len(region_data['sg_uf'].unique()))])\n",
    "    axes[i].set_xticklabels(region_data['sg_uf'].unique())\n",
    "    axes[i].set_ylabel('Valores', fontweight='bold')\n",
    "    axes[i].set_title(f'Valores por UF em {region}', fontweight='bold')\n",
    "    # sns.move_legend(axes[i], 'center left')\n",
    "\n",
    "# Exibir os subplots\n",
    "plt.show()"
   ]
  },
  {
   "cell_type": "code",
   "execution_count": 66,
   "id": "34ea0c26",
   "metadata": {},
   "outputs": [
    {
     "data": {
      "text/html": [
       "<div>\n",
       "<style scoped>\n",
       "    .dataframe tbody tr th:only-of-type {\n",
       "        vertical-align: middle;\n",
       "    }\n",
       "\n",
       "    .dataframe tbody tr th {\n",
       "        vertical-align: top;\n",
       "    }\n",
       "\n",
       "    .dataframe thead th {\n",
       "        text-align: right;\n",
       "    }\n",
       "</style>\n",
       "<table border=\"1\" class=\"dataframe\">\n",
       "  <thead>\n",
       "    <tr style=\"text-align: right;\">\n",
       "      <th></th>\n",
       "      <th>no_regiao</th>\n",
       "      <th>sg_uf</th>\n",
       "      <th>qt_mat_bas_0_3</th>\n",
       "      <th>qt_mat_bas_4_5</th>\n",
       "      <th>qt_mat_bas_6_10</th>\n",
       "      <th>qt_mat_bas_11_14</th>\n",
       "      <th>qt_mat_bas_15_17</th>\n",
       "      <th>qt_mat_bas_18_mais</th>\n",
       "    </tr>\n",
       "  </thead>\n",
       "  <tbody>\n",
       "    <tr>\n",
       "      <th>0</th>\n",
       "      <td>Centro-Oeste</td>\n",
       "      <td>DF</td>\n",
       "      <td>32806.0</td>\n",
       "      <td>25121.0</td>\n",
       "      <td>54428.0</td>\n",
       "      <td>40918.0</td>\n",
       "      <td>26772.0</td>\n",
       "      <td>15641.0</td>\n",
       "    </tr>\n",
       "    <tr>\n",
       "      <th>1</th>\n",
       "      <td>Centro-Oeste</td>\n",
       "      <td>GO</td>\n",
       "      <td>20443.0</td>\n",
       "      <td>37752.0</td>\n",
       "      <td>95786.0</td>\n",
       "      <td>59709.0</td>\n",
       "      <td>33434.0</td>\n",
       "      <td>23189.0</td>\n",
       "    </tr>\n",
       "    <tr>\n",
       "      <th>2</th>\n",
       "      <td>Centro-Oeste</td>\n",
       "      <td>MS</td>\n",
       "      <td>11058.0</td>\n",
       "      <td>12353.0</td>\n",
       "      <td>30699.0</td>\n",
       "      <td>19516.0</td>\n",
       "      <td>9993.0</td>\n",
       "      <td>15745.0</td>\n",
       "    </tr>\n",
       "    <tr>\n",
       "      <th>3</th>\n",
       "      <td>Centro-Oeste</td>\n",
       "      <td>MT</td>\n",
       "      <td>9197.0</td>\n",
       "      <td>12166.0</td>\n",
       "      <td>34890.0</td>\n",
       "      <td>23062.0</td>\n",
       "      <td>13550.0</td>\n",
       "      <td>12202.0</td>\n",
       "    </tr>\n",
       "    <tr>\n",
       "      <th>4</th>\n",
       "      <td>Nordeste</td>\n",
       "      <td>AL</td>\n",
       "      <td>8614.0</td>\n",
       "      <td>15412.0</td>\n",
       "      <td>47737.0</td>\n",
       "      <td>31702.0</td>\n",
       "      <td>16044.0</td>\n",
       "      <td>11742.0</td>\n",
       "    </tr>\n",
       "    <tr>\n",
       "      <th>5</th>\n",
       "      <td>Nordeste</td>\n",
       "      <td>BA</td>\n",
       "      <td>48907.0</td>\n",
       "      <td>76093.0</td>\n",
       "      <td>197532.0</td>\n",
       "      <td>126802.0</td>\n",
       "      <td>56594.0</td>\n",
       "      <td>40738.0</td>\n",
       "    </tr>\n",
       "    <tr>\n",
       "      <th>6</th>\n",
       "      <td>Nordeste</td>\n",
       "      <td>CE</td>\n",
       "      <td>36679.0</td>\n",
       "      <td>51880.0</td>\n",
       "      <td>135014.0</td>\n",
       "      <td>83727.0</td>\n",
       "      <td>30687.0</td>\n",
       "      <td>37259.0</td>\n",
       "    </tr>\n",
       "    <tr>\n",
       "      <th>7</th>\n",
       "      <td>Nordeste</td>\n",
       "      <td>MA</td>\n",
       "      <td>30788.0</td>\n",
       "      <td>40544.0</td>\n",
       "      <td>80847.0</td>\n",
       "      <td>45376.0</td>\n",
       "      <td>16790.0</td>\n",
       "      <td>20990.0</td>\n",
       "    </tr>\n",
       "    <tr>\n",
       "      <th>8</th>\n",
       "      <td>Nordeste</td>\n",
       "      <td>PB</td>\n",
       "      <td>15160.0</td>\n",
       "      <td>26617.0</td>\n",
       "      <td>70977.0</td>\n",
       "      <td>41825.0</td>\n",
       "      <td>17856.0</td>\n",
       "      <td>9682.0</td>\n",
       "    </tr>\n",
       "    <tr>\n",
       "      <th>9</th>\n",
       "      <td>Nordeste</td>\n",
       "      <td>PE</td>\n",
       "      <td>46112.0</td>\n",
       "      <td>65596.0</td>\n",
       "      <td>190962.0</td>\n",
       "      <td>105806.0</td>\n",
       "      <td>37606.0</td>\n",
       "      <td>42824.0</td>\n",
       "    </tr>\n",
       "    <tr>\n",
       "      <th>10</th>\n",
       "      <td>Nordeste</td>\n",
       "      <td>PI</td>\n",
       "      <td>7815.0</td>\n",
       "      <td>12438.0</td>\n",
       "      <td>37156.0</td>\n",
       "      <td>26035.0</td>\n",
       "      <td>13783.0</td>\n",
       "      <td>8586.0</td>\n",
       "    </tr>\n",
       "    <tr>\n",
       "      <th>11</th>\n",
       "      <td>Nordeste</td>\n",
       "      <td>RN</td>\n",
       "      <td>12594.0</td>\n",
       "      <td>19771.0</td>\n",
       "      <td>59134.0</td>\n",
       "      <td>39271.0</td>\n",
       "      <td>17817.0</td>\n",
       "      <td>23047.0</td>\n",
       "    </tr>\n",
       "    <tr>\n",
       "      <th>12</th>\n",
       "      <td>Nordeste</td>\n",
       "      <td>SE</td>\n",
       "      <td>8124.0</td>\n",
       "      <td>15214.0</td>\n",
       "      <td>43725.0</td>\n",
       "      <td>28945.0</td>\n",
       "      <td>12868.0</td>\n",
       "      <td>4853.0</td>\n",
       "    </tr>\n",
       "    <tr>\n",
       "      <th>13</th>\n",
       "      <td>Norte</td>\n",
       "      <td>AC</td>\n",
       "      <td>556.0</td>\n",
       "      <td>1271.0</td>\n",
       "      <td>4226.0</td>\n",
       "      <td>2985.0</td>\n",
       "      <td>1819.0</td>\n",
       "      <td>1847.0</td>\n",
       "    </tr>\n",
       "    <tr>\n",
       "      <th>14</th>\n",
       "      <td>Norte</td>\n",
       "      <td>AM</td>\n",
       "      <td>5267.0</td>\n",
       "      <td>11530.0</td>\n",
       "      <td>32870.0</td>\n",
       "      <td>18458.0</td>\n",
       "      <td>10102.0</td>\n",
       "      <td>10291.0</td>\n",
       "    </tr>\n",
       "    <tr>\n",
       "      <th>15</th>\n",
       "      <td>Norte</td>\n",
       "      <td>AP</td>\n",
       "      <td>953.0</td>\n",
       "      <td>2253.0</td>\n",
       "      <td>7096.0</td>\n",
       "      <td>4867.0</td>\n",
       "      <td>2509.0</td>\n",
       "      <td>2656.0</td>\n",
       "    </tr>\n",
       "    <tr>\n",
       "      <th>16</th>\n",
       "      <td>Norte</td>\n",
       "      <td>PA</td>\n",
       "      <td>11767.0</td>\n",
       "      <td>26761.0</td>\n",
       "      <td>75824.0</td>\n",
       "      <td>53354.0</td>\n",
       "      <td>29578.0</td>\n",
       "      <td>38656.0</td>\n",
       "    </tr>\n",
       "    <tr>\n",
       "      <th>17</th>\n",
       "      <td>Norte</td>\n",
       "      <td>RO</td>\n",
       "      <td>3211.0</td>\n",
       "      <td>5725.0</td>\n",
       "      <td>15361.0</td>\n",
       "      <td>8784.0</td>\n",
       "      <td>4852.0</td>\n",
       "      <td>4112.0</td>\n",
       "    </tr>\n",
       "    <tr>\n",
       "      <th>18</th>\n",
       "      <td>Norte</td>\n",
       "      <td>RR</td>\n",
       "      <td>2930.0</td>\n",
       "      <td>1925.0</td>\n",
       "      <td>4578.0</td>\n",
       "      <td>2736.0</td>\n",
       "      <td>1646.0</td>\n",
       "      <td>1637.0</td>\n",
       "    </tr>\n",
       "    <tr>\n",
       "      <th>19</th>\n",
       "      <td>Norte</td>\n",
       "      <td>TO</td>\n",
       "      <td>2661.0</td>\n",
       "      <td>5082.0</td>\n",
       "      <td>13205.0</td>\n",
       "      <td>8039.0</td>\n",
       "      <td>4522.0</td>\n",
       "      <td>3459.0</td>\n",
       "    </tr>\n",
       "    <tr>\n",
       "      <th>20</th>\n",
       "      <td>Sudeste</td>\n",
       "      <td>ES</td>\n",
       "      <td>6196.0</td>\n",
       "      <td>9580.0</td>\n",
       "      <td>37373.0</td>\n",
       "      <td>27441.0</td>\n",
       "      <td>15350.0</td>\n",
       "      <td>16583.0</td>\n",
       "    </tr>\n",
       "    <tr>\n",
       "      <th>21</th>\n",
       "      <td>Sudeste</td>\n",
       "      <td>MG</td>\n",
       "      <td>108302.0</td>\n",
       "      <td>94539.0</td>\n",
       "      <td>191408.0</td>\n",
       "      <td>135561.0</td>\n",
       "      <td>98576.0</td>\n",
       "      <td>117440.0</td>\n",
       "    </tr>\n",
       "    <tr>\n",
       "      <th>22</th>\n",
       "      <td>Sudeste</td>\n",
       "      <td>RJ</td>\n",
       "      <td>103063.0</td>\n",
       "      <td>114895.0</td>\n",
       "      <td>344896.0</td>\n",
       "      <td>228059.0</td>\n",
       "      <td>131066.0</td>\n",
       "      <td>120824.0</td>\n",
       "    </tr>\n",
       "    <tr>\n",
       "      <th>23</th>\n",
       "      <td>Sudeste</td>\n",
       "      <td>SP</td>\n",
       "      <td>543474.0</td>\n",
       "      <td>254905.0</td>\n",
       "      <td>625181.0</td>\n",
       "      <td>484719.0</td>\n",
       "      <td>289459.0</td>\n",
       "      <td>230699.0</td>\n",
       "    </tr>\n",
       "    <tr>\n",
       "      <th>24</th>\n",
       "      <td>Sul</td>\n",
       "      <td>PR</td>\n",
       "      <td>57045.0</td>\n",
       "      <td>51489.0</td>\n",
       "      <td>122034.0</td>\n",
       "      <td>86809.0</td>\n",
       "      <td>58666.0</td>\n",
       "      <td>66759.0</td>\n",
       "    </tr>\n",
       "    <tr>\n",
       "      <th>25</th>\n",
       "      <td>Sul</td>\n",
       "      <td>RS</td>\n",
       "      <td>73567.0</td>\n",
       "      <td>65536.0</td>\n",
       "      <td>106410.0</td>\n",
       "      <td>71631.0</td>\n",
       "      <td>48662.0</td>\n",
       "      <td>93986.0</td>\n",
       "    </tr>\n",
       "    <tr>\n",
       "      <th>26</th>\n",
       "      <td>Sul</td>\n",
       "      <td>SC</td>\n",
       "      <td>40725.0</td>\n",
       "      <td>34282.0</td>\n",
       "      <td>76293.0</td>\n",
       "      <td>52154.0</td>\n",
       "      <td>37279.0</td>\n",
       "      <td>54042.0</td>\n",
       "    </tr>\n",
       "  </tbody>\n",
       "</table>\n",
       "</div>"
      ],
      "text/plain": [
       "       no_regiao sg_uf  qt_mat_bas_0_3  qt_mat_bas_4_5  qt_mat_bas_6_10  \\\n",
       "0   Centro-Oeste    DF         32806.0         25121.0          54428.0   \n",
       "1   Centro-Oeste    GO         20443.0         37752.0          95786.0   \n",
       "2   Centro-Oeste    MS         11058.0         12353.0          30699.0   \n",
       "3   Centro-Oeste    MT          9197.0         12166.0          34890.0   \n",
       "4       Nordeste    AL          8614.0         15412.0          47737.0   \n",
       "5       Nordeste    BA         48907.0         76093.0         197532.0   \n",
       "6       Nordeste    CE         36679.0         51880.0         135014.0   \n",
       "7       Nordeste    MA         30788.0         40544.0          80847.0   \n",
       "8       Nordeste    PB         15160.0         26617.0          70977.0   \n",
       "9       Nordeste    PE         46112.0         65596.0         190962.0   \n",
       "10      Nordeste    PI          7815.0         12438.0          37156.0   \n",
       "11      Nordeste    RN         12594.0         19771.0          59134.0   \n",
       "12      Nordeste    SE          8124.0         15214.0          43725.0   \n",
       "13         Norte    AC           556.0          1271.0           4226.0   \n",
       "14         Norte    AM          5267.0         11530.0          32870.0   \n",
       "15         Norte    AP           953.0          2253.0           7096.0   \n",
       "16         Norte    PA         11767.0         26761.0          75824.0   \n",
       "17         Norte    RO          3211.0          5725.0          15361.0   \n",
       "18         Norte    RR          2930.0          1925.0           4578.0   \n",
       "19         Norte    TO          2661.0          5082.0          13205.0   \n",
       "20       Sudeste    ES          6196.0          9580.0          37373.0   \n",
       "21       Sudeste    MG        108302.0         94539.0         191408.0   \n",
       "22       Sudeste    RJ        103063.0        114895.0         344896.0   \n",
       "23       Sudeste    SP        543474.0        254905.0         625181.0   \n",
       "24           Sul    PR         57045.0         51489.0         122034.0   \n",
       "25           Sul    RS         73567.0         65536.0         106410.0   \n",
       "26           Sul    SC         40725.0         34282.0          76293.0   \n",
       "\n",
       "    qt_mat_bas_11_14  qt_mat_bas_15_17  qt_mat_bas_18_mais  \n",
       "0            40918.0           26772.0             15641.0  \n",
       "1            59709.0           33434.0             23189.0  \n",
       "2            19516.0            9993.0             15745.0  \n",
       "3            23062.0           13550.0             12202.0  \n",
       "4            31702.0           16044.0             11742.0  \n",
       "5           126802.0           56594.0             40738.0  \n",
       "6            83727.0           30687.0             37259.0  \n",
       "7            45376.0           16790.0             20990.0  \n",
       "8            41825.0           17856.0              9682.0  \n",
       "9           105806.0           37606.0             42824.0  \n",
       "10           26035.0           13783.0              8586.0  \n",
       "11           39271.0           17817.0             23047.0  \n",
       "12           28945.0           12868.0              4853.0  \n",
       "13            2985.0            1819.0              1847.0  \n",
       "14           18458.0           10102.0             10291.0  \n",
       "15            4867.0            2509.0              2656.0  \n",
       "16           53354.0           29578.0             38656.0  \n",
       "17            8784.0            4852.0              4112.0  \n",
       "18            2736.0            1646.0              1637.0  \n",
       "19            8039.0            4522.0              3459.0  \n",
       "20           27441.0           15350.0             16583.0  \n",
       "21          135561.0           98576.0            117440.0  \n",
       "22          228059.0          131066.0            120824.0  \n",
       "23          484719.0          289459.0            230699.0  \n",
       "24           86809.0           58666.0             66759.0  \n",
       "25           71631.0           48662.0             93986.0  \n",
       "26           52154.0           37279.0             54042.0  "
      ]
     },
     "execution_count": 66,
     "metadata": {},
     "output_type": "execute_result"
    }
   ],
   "source": [
    "df2[['no_regiao', 'sg_uf', 'qt_mat_bas_0_3', 'qt_mat_bas_4_5', 'qt_mat_bas_6_10', 'qt_mat_bas_11_14', 'qt_mat_bas_15_17', 'qt_mat_bas_18_mais']].groupby(['no_regiao', 'sg_uf']).sum().reset_index()\n"
   ]
  },
  {
   "cell_type": "code",
   "execution_count": 61,
   "id": "7455ce47",
   "metadata": {},
   "outputs": [
    {
     "data": {
      "text/html": [
       "<div>\n",
       "<style scoped>\n",
       "    .dataframe tbody tr th:only-of-type {\n",
       "        vertical-align: middle;\n",
       "    }\n",
       "\n",
       "    .dataframe tbody tr th {\n",
       "        vertical-align: top;\n",
       "    }\n",
       "\n",
       "    .dataframe thead th {\n",
       "        text-align: right;\n",
       "    }\n",
       "</style>\n",
       "<table border=\"1\" class=\"dataframe\">\n",
       "  <thead>\n",
       "    <tr style=\"text-align: right;\">\n",
       "      <th></th>\n",
       "      <th>no_regiao</th>\n",
       "      <th>sg_uf</th>\n",
       "    </tr>\n",
       "  </thead>\n",
       "  <tbody>\n",
       "    <tr>\n",
       "      <th>0</th>\n",
       "      <td>Centro-Oeste</td>\n",
       "      <td>DF</td>\n",
       "    </tr>\n",
       "    <tr>\n",
       "      <th>1</th>\n",
       "      <td>Centro-Oeste</td>\n",
       "      <td>GO</td>\n",
       "    </tr>\n",
       "    <tr>\n",
       "      <th>2</th>\n",
       "      <td>Centro-Oeste</td>\n",
       "      <td>MS</td>\n",
       "    </tr>\n",
       "    <tr>\n",
       "      <th>3</th>\n",
       "      <td>Centro-Oeste</td>\n",
       "      <td>MT</td>\n",
       "    </tr>\n",
       "    <tr>\n",
       "      <th>4</th>\n",
       "      <td>Nordeste</td>\n",
       "      <td>AL</td>\n",
       "    </tr>\n",
       "    <tr>\n",
       "      <th>5</th>\n",
       "      <td>Nordeste</td>\n",
       "      <td>BA</td>\n",
       "    </tr>\n",
       "    <tr>\n",
       "      <th>6</th>\n",
       "      <td>Nordeste</td>\n",
       "      <td>CE</td>\n",
       "    </tr>\n",
       "    <tr>\n",
       "      <th>7</th>\n",
       "      <td>Nordeste</td>\n",
       "      <td>MA</td>\n",
       "    </tr>\n",
       "    <tr>\n",
       "      <th>8</th>\n",
       "      <td>Nordeste</td>\n",
       "      <td>PB</td>\n",
       "    </tr>\n",
       "    <tr>\n",
       "      <th>9</th>\n",
       "      <td>Nordeste</td>\n",
       "      <td>PE</td>\n",
       "    </tr>\n",
       "    <tr>\n",
       "      <th>10</th>\n",
       "      <td>Nordeste</td>\n",
       "      <td>PI</td>\n",
       "    </tr>\n",
       "    <tr>\n",
       "      <th>11</th>\n",
       "      <td>Nordeste</td>\n",
       "      <td>RN</td>\n",
       "    </tr>\n",
       "    <tr>\n",
       "      <th>12</th>\n",
       "      <td>Nordeste</td>\n",
       "      <td>SE</td>\n",
       "    </tr>\n",
       "    <tr>\n",
       "      <th>13</th>\n",
       "      <td>Norte</td>\n",
       "      <td>AC</td>\n",
       "    </tr>\n",
       "    <tr>\n",
       "      <th>14</th>\n",
       "      <td>Norte</td>\n",
       "      <td>AM</td>\n",
       "    </tr>\n",
       "    <tr>\n",
       "      <th>15</th>\n",
       "      <td>Norte</td>\n",
       "      <td>AP</td>\n",
       "    </tr>\n",
       "    <tr>\n",
       "      <th>16</th>\n",
       "      <td>Norte</td>\n",
       "      <td>PA</td>\n",
       "    </tr>\n",
       "    <tr>\n",
       "      <th>17</th>\n",
       "      <td>Norte</td>\n",
       "      <td>RO</td>\n",
       "    </tr>\n",
       "    <tr>\n",
       "      <th>18</th>\n",
       "      <td>Norte</td>\n",
       "      <td>RR</td>\n",
       "    </tr>\n",
       "    <tr>\n",
       "      <th>19</th>\n",
       "      <td>Norte</td>\n",
       "      <td>TO</td>\n",
       "    </tr>\n",
       "    <tr>\n",
       "      <th>20</th>\n",
       "      <td>Sudeste</td>\n",
       "      <td>ES</td>\n",
       "    </tr>\n",
       "    <tr>\n",
       "      <th>21</th>\n",
       "      <td>Sudeste</td>\n",
       "      <td>MG</td>\n",
       "    </tr>\n",
       "    <tr>\n",
       "      <th>22</th>\n",
       "      <td>Sudeste</td>\n",
       "      <td>RJ</td>\n",
       "    </tr>\n",
       "    <tr>\n",
       "      <th>23</th>\n",
       "      <td>Sudeste</td>\n",
       "      <td>SP</td>\n",
       "    </tr>\n",
       "    <tr>\n",
       "      <th>24</th>\n",
       "      <td>Sul</td>\n",
       "      <td>PR</td>\n",
       "    </tr>\n",
       "    <tr>\n",
       "      <th>25</th>\n",
       "      <td>Sul</td>\n",
       "      <td>RS</td>\n",
       "    </tr>\n",
       "    <tr>\n",
       "      <th>26</th>\n",
       "      <td>Sul</td>\n",
       "      <td>SC</td>\n",
       "    </tr>\n",
       "  </tbody>\n",
       "</table>\n",
       "</div>"
      ],
      "text/plain": [
       "       no_regiao sg_uf\n",
       "0   Centro-Oeste    DF\n",
       "1   Centro-Oeste    GO\n",
       "2   Centro-Oeste    MS\n",
       "3   Centro-Oeste    MT\n",
       "4       Nordeste    AL\n",
       "5       Nordeste    BA\n",
       "6       Nordeste    CE\n",
       "7       Nordeste    MA\n",
       "8       Nordeste    PB\n",
       "9       Nordeste    PE\n",
       "10      Nordeste    PI\n",
       "11      Nordeste    RN\n",
       "12      Nordeste    SE\n",
       "13         Norte    AC\n",
       "14         Norte    AM\n",
       "15         Norte    AP\n",
       "16         Norte    PA\n",
       "17         Norte    RO\n",
       "18         Norte    RR\n",
       "19         Norte    TO\n",
       "20       Sudeste    ES\n",
       "21       Sudeste    MG\n",
       "22       Sudeste    RJ\n",
       "23       Sudeste    SP\n",
       "24           Sul    PR\n",
       "25           Sul    RS\n",
       "26           Sul    SC"
      ]
     },
     "execution_count": 61,
     "metadata": {},
     "output_type": "execute_result"
    }
   ],
   "source": [
    "df2[['no_regiao', 'sg_uf']].groupby(['no_regiao', 'sg_uf']).sum().reset_index()"
   ]
  },
  {
   "cell_type": "markdown",
   "id": "015bc9f2",
   "metadata": {},
   "source": [
    "# PAREI AQUI"
   ]
  },
  {
   "cell_type": "code",
   "execution_count": null,
   "id": "f2f389ca",
   "metadata": {
    "ExecuteTime": {
     "end_time": "2023-07-09T23:15:19.382330Z",
     "start_time": "2023-07-09T23:14:25.460521Z"
    }
   },
   "outputs": [
    {
     "ename": "SyntaxError",
     "evalue": "invalid syntax (3272138656.py, line 5)",
     "output_type": "error",
     "traceback": [
      "\u001b[0;36m  Cell \u001b[0;32mIn[17], line 5\u001b[0;36m\u001b[0m\n\u001b[0;31m    df1['<var>'] = df1['<var>'].apply(lambda x: 0 if x['<var>'] == 0 else, axis = 1)\u001b[0m\n\u001b[0m                                                                         ^\u001b[0m\n\u001b[0;31mSyntaxError\u001b[0m\u001b[0;31m:\u001b[0m invalid syntax\n"
     ]
    }
   ],
   "source": [
    "# FLOAT or INT\n",
    "df1['<var>'] = df1['<var>'].apply(lambda x :200000.0 if math.isnan(x) else x)\n",
    "\n",
    "# BINARY (TRUE or FALSE)\n",
    "df1['<var>'] = df1['<var>'].apply(lambda x: 0 if x['<var>'] == 0 else, axis = 1)\n",
    "\n",
    "# maybe useful\n",
    "month_map = {1: 'Jan', 2: 'Feb', 3: 'Mar', 4: 'Apr', 5: 'May', 6: 'Jun', 7: 'Jul', 8: 'Aug', 9: 'Sept', 10: 'Oct', 11: 'Nov', 12: 'Dec'}\n",
    "df1['<var>'] = df1['date'].dt.month.map(month_map)"
   ]
  },
  {
   "cell_type": "markdown",
   "id": "a39546bb",
   "metadata": {},
   "source": [
    "## 1.6 Check Types"
   ]
  },
  {
   "cell_type": "code",
   "execution_count": null,
   "id": "7b1bc670",
   "metadata": {
    "ExecuteTime": {
     "end_time": "2023-07-09T23:15:19.415083Z",
     "start_time": "2023-07-09T23:15:19.384273Z"
    },
    "scrolled": true
   },
   "outputs": [],
   "source": [
    "# INT\n",
    "df1['<var>'] = df1['<var>'].astype(int)\n",
    "\n",
    "# FLOAT\n",
    "df1['<var>'] = df1['<var>'].astype(float)\n",
    "\n",
    "# STR\n",
    "df1['<var>'] = df1['<var>'].astype(str)\n",
    "\n",
    "# DATETIME\n",
    "df1['<var>'] = pd.to_datetime(df1['<var>'])"
   ]
  },
  {
   "cell_type": "markdown",
   "id": "fb2f8496",
   "metadata": {},
   "source": [
    "## 1.7 Descriptive Statistical"
   ]
  },
  {
   "cell_type": "code",
   "execution_count": null,
   "id": "556036ea",
   "metadata": {
    "ExecuteTime": {
     "end_time": "2023-07-09T23:15:19.458421Z",
     "start_time": "2023-07-09T23:15:19.417119Z"
    }
   },
   "outputs": [],
   "source": [
    "num_attributes = df1.select_dtypes(include=['int64', 'float64'])\n",
    "cat_attributes = df1.select_dtypes(exclude=['int64', 'float64', 'datetime64[ns]'])"
   ]
  },
  {
   "cell_type": "markdown",
   "id": "6673d7de",
   "metadata": {},
   "source": [
    "### 1.7.1 Numerical Attributes"
   ]
  },
  {
   "cell_type": "code",
   "execution_count": null,
   "id": "d6a13af7",
   "metadata": {
    "ExecuteTime": {
     "end_time": "2023-07-09T23:15:19.515802Z",
     "start_time": "2023-07-09T23:15:19.463043Z"
    }
   },
   "outputs": [],
   "source": [
    "# Alternative Code\n",
    "num_attributes.agg([\"mean\",\"median\",\"std\",\"min\",\"max\",\"skew\",\"kurtosis\"]).T.reset_index().rename(columns={'index': 'attributes'})"
   ]
  },
  {
   "cell_type": "markdown",
   "id": "0f160da1",
   "metadata": {},
   "source": [
    "### 1.7.2 Categorical Attributes"
   ]
  },
  {
   "cell_type": "code",
   "execution_count": null,
   "id": "a52e4b34",
   "metadata": {
    "ExecuteTime": {
     "end_time": "2023-07-09T23:15:26.054506Z",
     "start_time": "2023-07-09T23:15:25.917357Z"
    }
   },
   "outputs": [],
   "source": [
    "cat_attributes.apply( lambda x: x.unique().shape[0] )"
   ]
  },
  {
   "cell_type": "markdown",
   "id": "fef014ed",
   "metadata": {},
   "source": [
    "# 2.0 FEATURE ENGINEERING"
   ]
  },
  {
   "cell_type": "code",
   "execution_count": null,
   "id": "a2a17910",
   "metadata": {
    "ExecuteTime": {
     "end_time": "2023-07-09T23:15:26.461530Z",
     "start_time": "2023-07-09T23:15:26.413260Z"
    }
   },
   "outputs": [],
   "source": [
    "df2 = df1.copy()"
   ]
  },
  {
   "cell_type": "markdown",
   "id": "17687a80",
   "metadata": {},
   "source": [
    "## 2.1 - Mapa Mental de Hipoteses"
   ]
  },
  {
   "cell_type": "code",
   "execution_count": null,
   "id": "16419537",
   "metadata": {
    "ExecuteTime": {
     "end_time": "2023-07-09T23:15:26.657599Z",
     "start_time": "2023-07-09T23:15:26.463095Z"
    }
   },
   "outputs": [],
   "source": [
    "dir = ''\n",
    "img = ''\n",
    "Image(dir + img)"
   ]
  },
  {
   "cell_type": "markdown",
   "id": "ec99154b",
   "metadata": {},
   "source": [
    "## 2.2 - Criacao das Hipoteses"
   ]
  },
  {
   "cell_type": "markdown",
   "id": "9e98788a",
   "metadata": {},
   "source": [
    "### 2.2.1 - Hipoteses #1"
   ]
  },
  {
   "cell_type": "markdown",
   "id": "f1c3cdf7",
   "metadata": {},
   "source": [
    "**1.** \n",
    "\n",
    "**2.** \n"
   ]
  },
  {
   "cell_type": "markdown",
   "id": "f8720f1c",
   "metadata": {},
   "source": [
    "## 2.3 - Lista Final de Hipoteses"
   ]
  },
  {
   "cell_type": "markdown",
   "id": "0abdda88",
   "metadata": {},
   "source": [
    "**1.** \n",
    "\n",
    "**2.** \n"
   ]
  },
  {
   "cell_type": "markdown",
   "id": "7dd29371",
   "metadata": {},
   "source": [
    "## 2.4 - Feature Engineering"
   ]
  },
  {
   "cell_type": "code",
   "execution_count": null,
   "id": "0c46332f",
   "metadata": {
    "ExecuteTime": {
     "end_time": "2023-07-09T23:16:05.026155Z",
     "start_time": "2023-07-09T23:15:26.659954Z"
    }
   },
   "outputs": [],
   "source": [
    "# year\n",
    "df2['year'] = df2['date'].dt.year\n",
    "\n",
    "# month\n",
    "df2['month'] = df2['date'].dt.month\n",
    "\n",
    "# day\n",
    "df2['day'] = df2['date'].dt.day\n",
    "\n",
    "# week of year\n",
    "df2['week_of_year'] = df2['date'].dt.weekofyear\n",
    "\n",
    "# year week\n",
    "df2['year_week'] = df2['date'].dt.strftime( '%Y-%W' )\n",
    "\n",
    "# categories\n",
    "df2['<var>'] = df2['<var>'].apply( lambda x: 'example1' if x == 'a' else 'example2' if x == 'b' else 'example3' )"
   ]
  },
  {
   "cell_type": "code",
   "execution_count": null,
   "id": "d2f18a85",
   "metadata": {
    "ExecuteTime": {
     "end_time": "2023-07-09T23:16:05.039390Z",
     "start_time": "2023-07-09T23:16:05.027989Z"
    }
   },
   "outputs": [],
   "source": [
    "df2.head().T"
   ]
  },
  {
   "cell_type": "markdown",
   "id": "cf9c4d06",
   "metadata": {},
   "source": [
    "# 3.0 DATA FILTERING"
   ]
  },
  {
   "cell_type": "code",
   "execution_count": null,
   "id": "459a4005",
   "metadata": {
    "ExecuteTime": {
     "end_time": "2023-07-09T23:16:05.558145Z",
     "start_time": "2023-07-09T23:16:05.041466Z"
    }
   },
   "outputs": [],
   "source": [
    "df3 = df2.copy()"
   ]
  },
  {
   "cell_type": "markdown",
   "id": "daf8f03f",
   "metadata": {},
   "source": [
    "## 3.1 - Filtragem das Linhas"
   ]
  },
  {
   "cell_type": "code",
   "execution_count": null,
   "id": "4d645f1d",
   "metadata": {
    "ExecuteTime": {
     "end_time": "2023-07-09T23:16:05.665588Z",
     "start_time": "2023-07-09T23:16:05.560102Z"
    }
   },
   "outputs": [],
   "source": []
  },
  {
   "cell_type": "markdown",
   "id": "1db9e605",
   "metadata": {},
   "source": [
    "## 3.2 - Selecao das Colunas"
   ]
  },
  {
   "cell_type": "code",
   "execution_count": null,
   "id": "b662d287",
   "metadata": {
    "ExecuteTime": {
     "end_time": "2023-07-09T23:16:05.731842Z",
     "start_time": "2023-07-09T23:16:05.667598Z"
    }
   },
   "outputs": [],
   "source": [
    "cols_drop = []\n",
    "df3.drop(cols_drop, axis=1, inplace=True)"
   ]
  },
  {
   "cell_type": "markdown",
   "id": "f041e25e",
   "metadata": {},
   "source": [
    "# 4.0 EXPLORATORY DATA ANALYSIS"
   ]
  },
  {
   "cell_type": "code",
   "execution_count": null,
   "id": "49c485e6",
   "metadata": {
    "ExecuteTime": {
     "end_time": "2023-07-09T23:16:05.823396Z",
     "start_time": "2023-07-09T23:16:05.734148Z"
    }
   },
   "outputs": [],
   "source": [
    "df4 = df3.copy()"
   ]
  },
  {
   "cell_type": "markdown",
   "id": "4ecfd3cc",
   "metadata": {},
   "source": [
    "## 4.1 - Univariate Analysis"
   ]
  },
  {
   "cell_type": "markdown",
   "id": "c0e705a9",
   "metadata": {},
   "source": [
    "### 4.1.1 - Response Variable"
   ]
  },
  {
   "cell_type": "code",
   "execution_count": null,
   "id": "a5a19899",
   "metadata": {
    "ExecuteTime": {
     "end_time": "2023-07-09T23:16:06.891516Z",
     "start_time": "2023-07-09T23:16:05.825210Z"
    },
    "hide_input": false,
    "scrolled": true
   },
   "outputs": [],
   "source": [
    "# EXAMPLE 1\n",
    "# plt.figure(figsize=(15,8))\n",
    "# sns.histplot( df4['<var>'] )"
   ]
  },
  {
   "cell_type": "markdown",
   "id": "1223943b",
   "metadata": {},
   "source": [
    "### 4.1.2 - Numerical Variable"
   ]
  },
  {
   "cell_type": "code",
   "execution_count": null,
   "id": "b54fe979",
   "metadata": {
    "ExecuteTime": {
     "end_time": "2023-07-09T23:16:08.634447Z",
     "start_time": "2023-07-09T23:16:06.893421Z"
    },
    "hide_input": true
   },
   "outputs": [],
   "source": [
    "num_attributes.hist(figsize=(20,12), bins=25);"
   ]
  },
  {
   "cell_type": "markdown",
   "id": "6f86abcd",
   "metadata": {},
   "source": [
    "### 4.1.3 - Categorical Variable"
   ]
  },
  {
   "cell_type": "code",
   "execution_count": null,
   "id": "fb953655",
   "metadata": {},
   "outputs": [],
   "source": []
  },
  {
   "cell_type": "markdown",
   "id": "67d54a2a",
   "metadata": {},
   "source": [
    "## 4.2 - Bivariate Analysis"
   ]
  },
  {
   "cell_type": "markdown",
   "id": "1e388025",
   "metadata": {},
   "source": [
    "### H1 - Example\n",
    "**FALSE** or **TRUE** - Explanation"
   ]
  },
  {
   "cell_type": "code",
   "execution_count": null,
   "id": "c1b2b1f5",
   "metadata": {},
   "outputs": [],
   "source": []
  },
  {
   "cell_type": "markdown",
   "id": "e7ccb119",
   "metadata": {},
   "source": [
    "## 4.3 - Multivariate Analysis"
   ]
  },
  {
   "cell_type": "markdown",
   "id": "ef36b344",
   "metadata": {},
   "source": [
    "### 4.3.1 - Numerical Attributes"
   ]
  },
  {
   "cell_type": "code",
   "execution_count": null,
   "id": "f62472e1",
   "metadata": {
    "ExecuteTime": {
     "end_time": "2023-07-09T23:16:26.835200Z",
     "start_time": "2023-07-09T23:16:25.409980Z"
    }
   },
   "outputs": [],
   "source": [
    "correlation = num_attributes.corr(method='pearson')\n",
    "\n",
    "plt.figure(figsize=(16,10))\n",
    "sns.heatmap(correlation, annot=True);"
   ]
  },
  {
   "cell_type": "markdown",
   "id": "af5b262f",
   "metadata": {},
   "source": [
    "### 4.3.2 - Caterogical Attributes"
   ]
  },
  {
   "cell_type": "code",
   "execution_count": null,
   "id": "9a2a053a",
   "metadata": {
    "ExecuteTime": {
     "end_time": "2023-07-09T23:16:26.845215Z",
     "start_time": "2023-07-09T23:16:26.836829Z"
    }
   },
   "outputs": [],
   "source": [
    "a = df4.select_dtypes( include='object' )\n",
    "a"
   ]
  },
  {
   "cell_type": "code",
   "execution_count": null,
   "id": "af8d40f2",
   "metadata": {},
   "outputs": [],
   "source": [
    "# only categorical data\n",
    "a = df4.select_dtypes( include='object' )\n",
    "cramer_v(a['<cols>'])\n"
   ]
  },
  {
   "cell_type": "markdown",
   "id": "346f27a2",
   "metadata": {},
   "source": [
    "## 4.4 - Resumo das Hipoteses"
   ]
  },
  {
   "cell_type": "code",
   "execution_count": null,
   "id": "1c62d1f8",
   "metadata": {
    "ExecuteTime": {
     "end_time": "2023-07-09T23:16:28.199028Z",
     "start_time": "2023-07-09T23:16:28.194276Z"
    },
    "hide_input": true
   },
   "outputs": [],
   "source": [
    "tab =[\n",
    "['Hipoteses', 'Conclusao', 'Relevancia'],\n",
    "['H1', 'Falsa', 'Baixa'],\n",
    "['H2', 'Falsa', 'Media'],\n",
    "['H3', 'Verdadeira', 'Alta']\n",
    "]\n",
    "print( tabulate( tab, headers='firstrow' ) )"
   ]
  },
  {
   "cell_type": "markdown",
   "id": "f28c01a8",
   "metadata": {},
   "source": [
    "# 5.0 DATA PREPARATION"
   ]
  },
  {
   "cell_type": "code",
   "execution_count": null,
   "id": "dcee807e",
   "metadata": {
    "ExecuteTime": {
     "end_time": "2023-07-09T23:16:28.355763Z",
     "start_time": "2023-07-09T23:16:28.200155Z"
    }
   },
   "outputs": [],
   "source": [
    "df5 = df4.copy()"
   ]
  },
  {
   "cell_type": "markdown",
   "id": "874584e0",
   "metadata": {},
   "source": [
    "## 5.1 - Normalizacao"
   ]
  },
  {
   "cell_type": "code",
   "execution_count": null,
   "id": "5962a74a",
   "metadata": {},
   "outputs": [],
   "source": []
  },
  {
   "cell_type": "markdown",
   "id": "68c03e8e",
   "metadata": {},
   "source": [
    "## 5.2 - Rescaling"
   ]
  },
  {
   "cell_type": "code",
   "execution_count": null,
   "id": "6da83450",
   "metadata": {
    "ExecuteTime": {
     "end_time": "2023-07-09T23:16:28.879045Z",
     "start_time": "2023-07-09T23:16:28.358045Z"
    },
    "hide_input": true
   },
   "outputs": [],
   "source": [
    "plt.figure(figsize=(16,10))\n",
    "sns.boxplot(y=df5['<var>']);"
   ]
  },
  {
   "cell_type": "code",
   "execution_count": null,
   "id": "52c766ff",
   "metadata": {
    "ExecuteTime": {
     "end_time": "2023-07-09T23:16:29.539222Z",
     "start_time": "2023-07-09T23:16:28.880492Z"
    },
    "hide_input": false
   },
   "outputs": [],
   "source": [
    "dir_parameter = 'src/parameter/'\n",
    "\n",
    "# Example RobustScaler\n",
    "rs = RobustScaler()\n",
    "df5['<var>'] = rs.fit_transform( df5[['<var>']].values )\n",
    "pickle.dump( rs, open(dir_parameter + '<archive>.pkl', 'wb') )\n",
    "\n",
    "# Example MinMaxScaler\n",
    "mms = MinMaxScaler()\n",
    "df5['<var>'] = mms.fit_transform( df5[['<var>']].values )\n",
    "pickle.dump( mms, open(dir_parameter + '<archive>.pkl', 'wb') )"
   ]
  },
  {
   "cell_type": "markdown",
   "id": "be2c270e",
   "metadata": {},
   "source": [
    "## 5.3 - Transformacao"
   ]
  },
  {
   "cell_type": "markdown",
   "id": "53d6918f",
   "metadata": {},
   "source": [
    "### 5.3.1 - Encoding"
   ]
  },
  {
   "cell_type": "code",
   "execution_count": null,
   "id": "bc74b685",
   "metadata": {
    "ExecuteTime": {
     "end_time": "2023-07-09T23:16:31.036275Z",
     "start_time": "2023-07-09T23:16:29.540755Z"
    }
   },
   "outputs": [],
   "source": [
    "dir_parameter = 'src/parameter/'\n",
    "\n",
    "# Example One Hot Encoding\n",
    "df5 = pd.get_dummies( df5, prefix=['<var>'], columns=['<var>'] )\n",
    "\n",
    "# Example Label Encoding\n",
    "le = LabelEncoder()\n",
    "df5['<var>'] = le.fit_transform( df5['<var>'] )\n",
    "pickle.dump( le, open(dir_parameter + '<archive>.pkl', 'wb') )\n",
    "\n",
    "# Example Ordinal Encoding\n",
    "assortment_dict = {'basic': 1, 'extra': 2, 'extented': 3}\n",
    "df5['<var>'] = df5['<var>'].map( assortment_dict )"
   ]
  },
  {
   "cell_type": "markdown",
   "id": "31d729fc",
   "metadata": {},
   "source": [
    "### 5.3.2 - Response Variable Transformation"
   ]
  },
  {
   "cell_type": "code",
   "execution_count": null,
   "id": "27ee905f",
   "metadata": {
    "ExecuteTime": {
     "end_time": "2023-07-09T23:16:34.149547Z",
     "start_time": "2023-07-09T23:16:31.038003Z"
    }
   },
   "outputs": [],
   "source": [
    "# Example\n",
    "df5['<var>'] = np.log1p( df5['<var>'] )\n",
    "\n",
    "plt.figure(figsize=(16,10))\n",
    "sns.distplot(df5['<var>'])"
   ]
  },
  {
   "cell_type": "markdown",
   "id": "7f8eddbd",
   "metadata": {},
   "source": [
    "### 5.3.3 - Nature Transformation"
   ]
  },
  {
   "cell_type": "code",
   "execution_count": null,
   "id": "9213499a",
   "metadata": {
    "ExecuteTime": {
     "end_time": "2023-07-09T23:16:43.070350Z",
     "start_time": "2023-07-09T23:16:34.151738Z"
    }
   },
   "outputs": [],
   "source": [
    "# day_of_week\n",
    "df5['day_of_week_sin'] = df5['day_of_week'].apply( lambda x: np.sin( x * ( 2. * np.pi/7 ) ) )\n",
    "df5['day_of_week_cos'] = df5['day_of_week'].apply( lambda x: np.cos( x * ( 2. * np.pi/7 ) ) )\n",
    "\n",
    "# month\n",
    "df5['month_sin'] = df5['month'].apply( lambda x: np.sin( x * ( 2. * np.pi/12 ) ) )\n",
    "df5['month_cos'] = df5['month'].apply( lambda x: np.cos( x * ( 2. * np.pi/12 ) ) )\n",
    "\n",
    "# day \n",
    "df5['day_sin'] = df5['day'].apply( lambda x: np.sin( x * ( 2. * np.pi/30 ) ) )\n",
    "df5['day_cos'] = df5['day'].apply( lambda x: np.cos( x * ( 2. * np.pi/30 ) ) )\n",
    "\n",
    "# week_of_year\n",
    "df5['week_of_year_sin'] = df5['week_of_year'].apply( lambda x: np.sin( x * ( 2. * np.pi/52 ) ) )\n",
    "df5['week_of_year_cos'] = df5['week_of_year'].apply( lambda x: np.cos( x * ( 2. * np.pi/52 ) ) )"
   ]
  },
  {
   "cell_type": "markdown",
   "id": "96b129e3",
   "metadata": {},
   "source": [
    "# 6.0 FEATURE SELECTION"
   ]
  },
  {
   "cell_type": "code",
   "execution_count": null,
   "id": "db294031",
   "metadata": {
    "ExecuteTime": {
     "end_time": "2023-07-09T23:16:44.212977Z",
     "start_time": "2023-07-09T23:16:43.071908Z"
    }
   },
   "outputs": [],
   "source": [
    "df6 = df5.copy()\n",
    "\n",
    "cols_drop = []\n",
    "df6.drop(cols_drop, axis=1, inplace=True)"
   ]
  },
  {
   "cell_type": "markdown",
   "id": "a38e9af4",
   "metadata": {},
   "source": [
    "## 6.1 - Split Dataframe into training and test dataset"
   ]
  },
  {
   "cell_type": "code",
   "execution_count": null,
   "id": "3a196363",
   "metadata": {
    "ExecuteTime": {
     "end_time": "2023-07-09T23:16:44.632792Z",
     "start_time": "2023-07-09T23:16:44.214923Z"
    },
    "scrolled": true
   },
   "outputs": [],
   "source": [
    "X = df6.drop('<var>', axis=1)\n",
    "Y = df6['<var>']\n",
    "\n",
    "x_train, x_test, y_train, y_test = train_test_split(X, Y, test_size=0.2 ,random_state=42)"
   ]
  },
  {
   "cell_type": "markdown",
   "id": "e8835cfc",
   "metadata": {},
   "source": [
    "# 7.0 MACHINE LEARNING MODELLING"
   ]
  },
  {
   "cell_type": "markdown",
   "id": "563d6427",
   "metadata": {},
   "source": [
    "## 7.1 Example Model"
   ]
  },
  {
   "cell_type": "code",
   "execution_count": null,
   "id": "73a61921",
   "metadata": {
    "ExecuteTime": {
     "end_time": "2023-07-09T23:16:50.711056Z",
     "start_time": "2023-07-09T23:16:47.625150Z"
    }
   },
   "outputs": [],
   "source": [
    "# model\n",
    "lr = LinearRegression().fit( x_train, y_train )\n",
    "\n",
    "# prediction\n",
    "yhat_lr = lr.predict( x_test )\n",
    "\n",
    "# performance\n",
    "lr_result = ml_error( 'Linear Regression', np.expm1(y_test), np.expm1(yhat_lr) )\n",
    "lr_result"
   ]
  },
  {
   "cell_type": "markdown",
   "id": "4614a5e5",
   "metadata": {},
   "source": [
    "### 7.1.1 Example Model - Cross Validation"
   ]
  },
  {
   "cell_type": "code",
   "execution_count": null,
   "id": "baec4621",
   "metadata": {
    "ExecuteTime": {
     "end_time": "2023-07-09T23:16:55.428155Z",
     "start_time": "2023-07-09T23:16:50.712869Z"
    }
   },
   "outputs": [],
   "source": [
    "lr_result_cv = cross_validation( x_training, 5, 'Linear Regression', lr )\n",
    "lr_result_cv"
   ]
  },
  {
   "cell_type": "markdown",
   "id": "94877815",
   "metadata": {},
   "source": [
    "# 8.0 HYPERPARAMETER FINE TUNING"
   ]
  },
  {
   "cell_type": "code",
   "execution_count": null,
   "id": "66f2fef6",
   "metadata": {},
   "outputs": [],
   "source": []
  },
  {
   "cell_type": "markdown",
   "id": "e8c8ebf4",
   "metadata": {},
   "source": [
    "# 9.0 TRANSLATE AND INTERPRETATION ERROR"
   ]
  },
  {
   "cell_type": "markdown",
   "id": "8013f45b",
   "metadata": {},
   "source": [
    "## 9.1 Business Performance"
   ]
  },
  {
   "cell_type": "code",
   "execution_count": null,
   "id": "22b99d58",
   "metadata": {
    "ExecuteTime": {
     "end_time": "2023-07-09T23:33:44.406590Z",
     "start_time": "2023-07-09T23:33:43.522232Z"
    }
   },
   "outputs": [],
   "source": []
  },
  {
   "cell_type": "markdown",
   "id": "3f82b977",
   "metadata": {},
   "source": [
    "## 9.2 Total Performance"
   ]
  },
  {
   "cell_type": "code",
   "execution_count": null,
   "id": "11f8f949",
   "metadata": {},
   "outputs": [],
   "source": []
  },
  {
   "cell_type": "markdown",
   "id": "3c6070ac",
   "metadata": {},
   "source": [
    "## 9.3 Macinhe Learning Performance"
   ]
  },
  {
   "cell_type": "code",
   "execution_count": null,
   "id": "bc963e9a",
   "metadata": {},
   "outputs": [],
   "source": []
  }
 ],
 "metadata": {
  "kernelspec": {
   "display_name": "Python 3 (ipykernel)",
   "language": "python",
   "name": "python3"
  },
  "language_info": {
   "codemirror_mode": {
    "name": "ipython",
    "version": 3
   },
   "file_extension": ".py",
   "mimetype": "text/x-python",
   "name": "python",
   "nbconvert_exporter": "python",
   "pygments_lexer": "ipython3",
   "version": "3.10.12"
  },
  "varInspector": {
   "cols": {
    "lenName": 16,
    "lenType": 16,
    "lenVar": 40
   },
   "kernels_config": {
    "python": {
     "delete_cmd_postfix": "",
     "delete_cmd_prefix": "del ",
     "library": "var_list.py",
     "varRefreshCmd": "print(var_dic_list())"
    },
    "r": {
     "delete_cmd_postfix": ") ",
     "delete_cmd_prefix": "rm(",
     "library": "var_list.r",
     "varRefreshCmd": "cat(var_dic_list()) "
    }
   },
   "types_to_exclude": [
    "module",
    "function",
    "builtin_function_or_method",
    "instance",
    "_Feature"
   ],
   "window_display": false
  }
 },
 "nbformat": 4,
 "nbformat_minor": 5
}
